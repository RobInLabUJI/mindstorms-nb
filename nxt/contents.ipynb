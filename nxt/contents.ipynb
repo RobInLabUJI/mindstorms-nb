{
 "cells": [
  {
   "cell_type": "markdown",
   "metadata": {
    "collapsed": false
   },
   "source": [
    "# NXT Mindstorms Notebooks\n"
   ]
  },
  {
   "cell_type": "markdown",
   "metadata": {
    "collapsed": true
   },
   "source": [
    "[<img src=\"img/lego_motor.jpg\" align=\"right\">](motors/index.ipynb)\n",
    "## Moviment\n",
    "\n",
    "lorem ipsum"
   ]
  },
  {
   "cell_type": "markdown",
   "metadata": {},
   "source": [
    "---\n",
    "[<img src=\"img/lego_music.jpg\" align=\"left\" width=260>](sound/index.ipynb)\n",
    "<h2 align=\"right\">Sons i música</h2>\n"
   ]
  },
  {
   "cell_type": "markdown",
   "metadata": {},
   "source": [
    "---\n",
    "[<img src=\"img/lego-mindstorms-nxt-touch-sensor.jpg\" align=\"right\">](touch/index.ipynb)\n",
    "## Contacte"
   ]
  },
  {
   "cell_type": "markdown",
   "metadata": {},
   "source": [
    "---\n",
    "[<img src=\"img/lego-mindstorms-nxt-light-sensor.jpg\" align=\"left\">](light/index.ipynb)\n",
    "<h2 align=\"right\">Llum</h2>"
   ]
  },
  {
   "cell_type": "markdown",
   "metadata": {},
   "source": [
    "---\n",
    "[<img src=\"img/lego-mindstorms-nxt-ultrasonic-sensor.jpg\" align=\"right\" width=260>](ultrasonic/index.ipynb)\n",
    "## Detecció a distància"
   ]
  },
  {
   "cell_type": "markdown",
   "metadata": {},
   "source": [
    "---\n",
    "[<img src=\"img/lego_sumo.jpg\" align=\"left\" width=260>](sumo/index.ipynb)\n",
    "<h2 align=\"right\">Combat final</h2>"
   ]
  },
  {
   "cell_type": "code",
   "execution_count": null,
   "metadata": {
    "collapsed": true
   },
   "outputs": [],
   "source": []
  }
 ],
 "metadata": {
  "anaconda-cloud": {},
  "kernelspec": {
   "display_name": "Python [conda env:py34]",
   "language": "python",
   "name": "conda-env-py34-py"
  },
  "language_info": {
   "codemirror_mode": {
    "name": "ipython",
    "version": 3
   },
   "file_extension": ".py",
   "mimetype": "text/x-python",
   "name": "python",
   "nbconvert_exporter": "python",
   "pygments_lexer": "ipython3",
   "version": "3.4.2"
  }
 },
 "nbformat": 4,
 "nbformat_minor": 2
}
