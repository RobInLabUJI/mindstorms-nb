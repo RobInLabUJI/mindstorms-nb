{
 "cells": [
  {
   "cell_type": "markdown",
   "metadata": {},
   "source": [
    "# Moviments bàsics del robot\n",
    "\n",
    "[<img src=\"img/lego_motor.jpg\" align=\"right\">](http://www.philohome.com/motors/motorcomp.htm)\n",
    "El robot té dos motors, que controlen cadascuna de les rodes amb uns engranatges. Estan connectats amb cables al controlador, de manera que les ordres del programa es tradueixen en senyals elèctrics per a fer girar els motors.\n",
    "\n",
    "Els motors es controlen independentment, la qual cosa permet diferents moviments:\n",
    "\n",
    "* si els dos motors giren al mateix temps, el robot avança o retrocedeix\n",
    "* si un motor gira i l'altre no, el robot gira a esquerra o dreta\n",
    "\n",
    "Anem a vore les funcions que controlen el moviment, però abans que res, heu de tornar a establir la connexió amb el robot."
   ]
  },
  {
   "cell_type": "code",
   "execution_count": null,
   "metadata": {
    "collapsed": false
   },
   "outputs": [],
   "source": [
    "from functions import connect, forward, backward, stop, left, right, disconnect\n",
    "from time import sleep\n",
    "\n",
    "robot = 12      # canvieu pel número del vostre robot\n",
    "connect(robot)  # i executeu, polsant Majúscules + Enter"
   ]
  },
  {
   "cell_type": "markdown",
   "metadata": {},
   "source": [
    "### Cap avant\n",
    "\n",
    "Per a fer el robot anar cap avant calen tres ordres:\n",
    "* `forward` posa els motors en marxa per a anar cap avant\n",
    "* `sleep` fa una pausa (per exemple 1 segon) durant la qual el robot es mou\n",
    "* `stop` para els motors"
   ]
  },
  {
   "cell_type": "code",
   "execution_count": null,
   "metadata": {
    "collapsed": false
   },
   "outputs": [],
   "source": [
    "forward()\n",
    "sleep(1)\n",
    "stop()"
   ]
  },
  {
   "cell_type": "markdown",
   "metadata": {},
   "source": [
    "### Cap arrere\n",
    "El mateix, canviant la primera ordre."
   ]
  },
  {
   "cell_type": "code",
   "execution_count": null,
   "metadata": {
    "collapsed": true
   },
   "outputs": [],
   "source": [
    "backward()\n",
    "sleep(1)\n",
    "stop()"
   ]
  },
  {
   "cell_type": "markdown",
   "metadata": {},
   "source": [
    "### Esquerra\n",
    "Idem."
   ]
  },
  {
   "cell_type": "code",
   "execution_count": null,
   "metadata": {
    "collapsed": true
   },
   "outputs": [],
   "source": [
    "left()\n",
    "sleep(1)\n",
    "stop()"
   ]
  },
  {
   "cell_type": "markdown",
   "metadata": {},
   "source": [
    "### Dreta\n",
    "De la mateixa manera, *of course*."
   ]
  },
  {
   "cell_type": "code",
   "execution_count": null,
   "metadata": {
    "collapsed": true
   },
   "outputs": [],
   "source": [
    "right()\n",
    "sleep(1)\n",
    "stop()"
   ]
  },
  {
   "cell_type": "markdown",
   "metadata": {},
   "source": [
    "Tot correcte? Fàcil, no? Anem a comprovar-ho amb el primer exercici, però abans de canviar de pàgina, recordeu desconnectar el robot:"
   ]
  },
  {
   "cell_type": "code",
   "execution_count": null,
   "metadata": {
    "collapsed": false
   },
   "outputs": [],
   "source": [
    "disconnect()"
   ]
  },
  {
   "cell_type": "markdown",
   "metadata": {},
   "source": [
    "Ara ja podeu continuar, bona sort!\n",
    "\n",
    "### [>>> Exercici de moviment](quadrat.ipynb)"
   ]
  }
 ],
 "metadata": {
  "anaconda-cloud": {},
  "kernelspec": {
   "display_name": "Python [conda env:py34]",
   "language": "python",
   "name": "conda-env-py34-py"
  },
  "language_info": {
   "codemirror_mode": {
    "name": "ipython",
    "version": 3
   },
   "file_extension": ".py",
   "mimetype": "text/x-python",
   "name": "python",
   "nbconvert_exporter": "python",
   "pygments_lexer": "ipython3",
   "version": "3.4.2"
  }
 },
 "nbformat": 4,
 "nbformat_minor": 2
}
