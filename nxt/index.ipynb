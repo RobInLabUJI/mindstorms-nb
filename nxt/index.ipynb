{
 "cells": [
  {
   "cell_type": "markdown",
   "metadata": {},
   "source": [
    "[<img src=\"img/brick.jpg\" align=\"right\">](https://en.wikipedia.org/wiki/Lego_Mindstorms_NXT#NXT_Intelligent_Brick)\n",
    "# Mindstorms NXT\n",
    "Lego Mindstorms NXT és la segona generació de kits de robòtica de Lego. El controlador NXT permet connectar fins a quatre sensors i tres motors. Té una pantalla de 100 x 60 píxels, un altaveu, i quatre botons. Porta un microprocessador de 32 bits amb 256KB de memòria FLASH i 64KB de RAM, i es pot communicar per USB i Bluetooth amb l'ordinador.\n",
    "\n",
    "En primer lloc **enceneu el controlador amb el botó taronja**. Emetrà un so i apareixerà texte i unes icones a la pantalla. Si no és així, indiqueu-ho al professor de l'aula."
   ]
  },
  {
   "cell_type": "markdown",
   "metadata": {},
   "source": [
    "Ara heu de configurar el vostre robot.\n",
    "\n",
    "Per a això, indiqueu al codi de baix el número del vostre robot, i executeu-lo pulsant simultàniament les tecles `Majúscules + Enter`."
   ]
  },
  {
   "cell_type": "code",
   "execution_count": null,
   "metadata": {},
   "outputs": [],
   "source": [
    "robot = 7         # canvieu-lo pel número del vostre robot\n",
    "from functions import configure\n",
    "configure(robot)  # executeu pulsant simultàniament Majúscules + Enter"
   ]
  },
  {
   "cell_type": "code",
   "execution_count": null,
   "metadata": {},
   "outputs": [],
   "source": []
  }
 ],
 "metadata": {
  "anaconda-cloud": {},
  "kernelspec": {
   "display_name": "Python 3 (ipykernel)",
   "language": "python",
   "name": "python3"
  },
  "language_info": {
   "codemirror_mode": {
    "name": "ipython",
    "version": 3
   },
   "file_extension": ".py",
   "mimetype": "text/x-python",
   "name": "python",
   "nbconvert_exporter": "python",
   "pygments_lexer": "ipython3",
   "version": "3.8.10"
  }
 },
 "nbformat": 4,
 "nbformat_minor": 2
}
