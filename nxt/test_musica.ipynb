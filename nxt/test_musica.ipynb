{
 "cells": [
  {
   "cell_type": "code",
   "execution_count": 1,
   "metadata": {
    "collapsed": false
   },
   "outputs": [
    {
     "name": "stdout",
     "output_type": "stream",
     "text": [
      "\u001b[32mRobot 12 connectat.\u001b[0m\n"
     ]
    }
   ],
   "source": [
    "from functions import connect, disconnect\n",
    "from music import Do, Re, Mi, Fa, Sol, La, Si, Si_bemol, Silenci\n",
    "\n",
    "connect(12)"
   ]
  },
  {
   "cell_type": "code",
   "execution_count": 2,
   "metadata": {
    "collapsed": true
   },
   "outputs": [],
   "source": [
    "Do()"
   ]
  },
  {
   "cell_type": "code",
   "execution_count": 3,
   "metadata": {
    "collapsed": true
   },
   "outputs": [],
   "source": [
    "Re()"
   ]
  },
  {
   "cell_type": "code",
   "execution_count": 4,
   "metadata": {
    "collapsed": true
   },
   "outputs": [],
   "source": [
    "Mi()"
   ]
  },
  {
   "cell_type": "code",
   "execution_count": 5,
   "metadata": {
    "collapsed": true
   },
   "outputs": [],
   "source": [
    "Fa()"
   ]
  },
  {
   "cell_type": "code",
   "execution_count": 6,
   "metadata": {
    "collapsed": true
   },
   "outputs": [],
   "source": [
    "Sol()"
   ]
  },
  {
   "cell_type": "code",
   "execution_count": 7,
   "metadata": {
    "collapsed": true
   },
   "outputs": [],
   "source": [
    "La()"
   ]
  },
  {
   "cell_type": "code",
   "execution_count": 8,
   "metadata": {
    "collapsed": true
   },
   "outputs": [],
   "source": [
    "Si()"
   ]
  },
  {
   "cell_type": "code",
   "execution_count": 9,
   "metadata": {
    "collapsed": true
   },
   "outputs": [],
   "source": [
    "Do(octava=1)"
   ]
  },
  {
   "cell_type": "markdown",
   "metadata": {},
   "source": [
    "![](img/partitura.gif)"
   ]
  },
  {
   "cell_type": "code",
   "execution_count": 2,
   "metadata": {
    "collapsed": false
   },
   "outputs": [],
   "source": [
    "La(1/2), Si_bemol(1/2)\n",
    "Do(octava=1), La()\n",
    "Fa(), Si_bemol(1/2), La(1/2)\n",
    "Sol(1/2), Fa(1/2), Sol(1/2), Sol(1/2)\n",
    "\n",
    "La(1/2), Fa(1/2), La(1/2), Si_bemol(1/2)\n",
    "Do(octava=1), La()\n",
    "Fa(), Si_bemol(1/2), La(1/2)\n",
    "Sol(1/2), Fa(1/2), Sol(1/2), La(1/2)\n",
    "Fa()\n"
   ]
  },
  {
   "cell_type": "markdown",
   "metadata": {},
   "source": [
    "![](img/joan_petit.png)"
   ]
  },
  {
   "cell_type": "code",
   "execution_count": 2,
   "metadata": {
    "collapsed": false
   },
   "outputs": [],
   "source": [
    "Sol(1/2), Do(1/2+1/4,octava=1), Do(1/4,octava=1), Do(1/2,octava=1), Do(1/2,octava=1)\n",
    "Do(octava=1), Do(octava=1)\n",
    "Sol(1/2), Sol(1/2), Sol(1/2), Sol(1/2)\n",
    "Mi(octava=1), Do(1/2,octava=1), Sol(1/2)\n",
    "\n",
    "Do(1/2+1/4,octava=1), Do(1/4,octava=1), Do(1/2,octava=1), Do(1/2,octava=1)\n",
    "Do(octava=1), Do(octava=1)\n",
    "Sol(1/2), Sol(1/2), La(1/2), Si(1/2)\n",
    "Do(1/2,octava=1), Silenci(1/2), Sol(1/2), Sol(1/2)\n",
    "\n",
    "Mi(octava=1), Re(octava=1)\n",
    "Do(1/2,octava=1), Silenci(1/2), Do(1/2,octava=1), Do(1/2,octava=1)\n",
    "Sol(1/2), Sol(1/2), La(1/2), Si(1/2)\n",
    "Do(1,octava=1)"
   ]
  },
  {
   "cell_type": "code",
   "execution_count": 3,
   "metadata": {
    "collapsed": true
   },
   "outputs": [],
   "source": [
    "disconnect()"
   ]
  },
  {
   "cell_type": "code",
   "execution_count": null,
   "metadata": {
    "collapsed": true
   },
   "outputs": [],
   "source": []
  }
 ],
 "metadata": {
  "anaconda-cloud": {},
  "kernelspec": {
   "display_name": "Python [conda env:py34]",
   "language": "python",
   "name": "conda-env-py34-py"
  },
  "language_info": {
   "codemirror_mode": {
    "name": "ipython",
    "version": 3
   },
   "file_extension": ".py",
   "mimetype": "text/x-python",
   "name": "python",
   "nbconvert_exporter": "python",
   "pygments_lexer": "ipython3",
   "version": "3.4.2"
  }
 },
 "nbformat": 4,
 "nbformat_minor": 2
}
