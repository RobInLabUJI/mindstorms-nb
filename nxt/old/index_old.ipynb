{
 "cells": [
  {
   "cell_type": "markdown",
   "metadata": {
    "collapsed": false
   },
   "source": [
    "# NXT Mindstorms Notebooks\n",
    "\n",
    "### Tests\n",
    "\n",
    "* [Test dels motors](test_motor.ipynb)\n",
    "* [Test dels sensors](test_sensor.ipynb)\n",
    "* [Test dels sons](test_so.ipynb)\n",
    "* [Test de la parla](test_parla.ipynb)\n",
    "* [Test de la música](test_musica.ipynb)\n",
    "\n",
    "### Exercicis\n",
    "\n",
    "* [Quadrat](ex_quadrat.ipynb)"
   ]
  },
  {
   "cell_type": "code",
   "execution_count": null,
   "metadata": {
    "collapsed": true
   },
   "outputs": [],
   "source": []
  }
 ],
 "metadata": {
  "anaconda-cloud": {},
  "kernelspec": {
   "display_name": "Python [conda env:py34]",
   "language": "python",
   "name": "conda-env-py34-py"
  },
  "language_info": {
   "codemirror_mode": {
    "name": "ipython",
    "version": 3
   },
   "file_extension": ".py",
   "mimetype": "text/x-python",
   "name": "python",
   "nbconvert_exporter": "python",
   "pygments_lexer": "ipython3",
   "version": "3.4.2"
  }
 },
 "nbformat": 4,
 "nbformat_minor": 2
}
