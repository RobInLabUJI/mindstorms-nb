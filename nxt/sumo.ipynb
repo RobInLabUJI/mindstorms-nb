{
 "cells": [
  {
   "cell_type": "markdown",
   "metadata": {
    "collapsed": false
   },
   "source": [
    "# Combat de sumo\n",
    "\n",
    "[<img src=\"img/lego_sumo.jpg\" align=\"right\" width=200>](https://www.youtube.com/watch?v=3tguWcKTXQI)\n",
    "Els combats de sumo són una competició molt popular entre els robots mòbils. Dos robots han de lluitar per traure al contrincant del tatami.\n",
    "\n",
    "En esta pàgina fareu un programa per a que el robot de Lego puga lluitar contra un*sparring*, una caixa que farà de contrincant, a la què ha de traure del tatami.\n",
    "\n",
    "Com sempre, connectem el robot."
   ]
  },
  {
   "cell_type": "code",
   "execution_count": null,
   "metadata": {
    "collapsed": false
   },
   "outputs": [],
   "source": [
    "from functions import connect\n",
    "connect(12)  "
   ]
  },
  {
   "cell_type": "markdown",
   "metadata": {},
   "source": [
    "## Una possible estratègia\n",
    "\n",
    "S'admeten idees alternatives ;-)\n",
    "\n",
    "1. Localitzar la caixa: el robot girar sobre ell mateix fins que detecta un objecte a distància\n",
    "2. Atacar: el robot avança en la direcció de l'objecte, fins que detecta la línia del tatami\n",
    "3. Recuperar: el robot retrocedeix, i torna a intentar-ho\n"
   ]
  },
  {
   "cell_type": "code",
   "execution_count": null,
   "metadata": {
    "collapsed": true
   },
   "outputs": [],
   "source": []
  }
 ],
 "metadata": {
  "anaconda-cloud": {},
  "kernelspec": {
   "display_name": "Python [conda env:py34]",
   "language": "python",
   "name": "conda-env-py34-py"
  },
  "language_info": {
   "codemirror_mode": {
    "name": "ipython",
    "version": 3
   },
   "file_extension": ".py",
   "mimetype": "text/x-python",
   "name": "python",
   "nbconvert_exporter": "python",
   "pygments_lexer": "ipython3",
   "version": "3.4.2"
  }
 },
 "nbformat": 4,
 "nbformat_minor": 2
}
