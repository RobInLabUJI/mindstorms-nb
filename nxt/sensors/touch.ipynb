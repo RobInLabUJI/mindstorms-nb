{
 "cells": [
  {
   "cell_type": "markdown",
   "metadata": {},
   "source": [
    "# Sensor de tacte\n",
    "\n",
    "<img src=\"https://upload.wikimedia.org/wikipedia/commons/thumb/c/c5/If-Then-Else-diagram.svg/246px-If-Then-Else-diagram.svg.png\" align=\"right\">\n",
    "Els sensors permeten al robot reaccionar a les condicions de l'entorn, i executar ordres diferents en cada cas.\n",
    "\n",
    "Per a fer això, a més del sensor, es necessita una instrucció del llenguatge de programació que permet triar entre dos situacions, anomenada [condicional](https://en.wikipedia.org/wiki/Conditional_(computer_programming)).\n",
    "\n",
    "En Python s'escriu així:\n",
    "\n",
    "```python\n",
    "if condition:\n",
    "    one_statement\n",
    "else:\n",
    "    another_statement\n",
    "```\n",
    "\n",
    "Aleshores, si la condició es verdadera, s'executa la primera ordre, i si no, la segona.\n",
    "\n",
    "Vegem un exemple, però primer connectem el robot."
   ]
  },
  {
   "cell_type": "code",
   "execution_count": 1,
   "metadata": {
    "collapsed": false
   },
   "outputs": [
    {
     "name": "stdout",
     "output_type": "stream",
     "text": [
      "\u001b[32mRobot 12 connectat.\u001b[0m\n"
     ]
    }
   ],
   "source": [
    "from functions import connect, touch, forward, backward, stop, disconnect\n",
    "from time import sleep\n",
    "connect(12)"
   ]
  },
  {
   "cell_type": "markdown",
   "metadata": {},
   "source": [
    "El codi següent comprova el sensor de tacte:\n",
    "\n",
    "* si està polsat, el robot va cap enrere\n",
    "* si no està polsat, va cap avant\n",
    "\n",
    "Proveu-lo amb `Ctrl+Enter` mentre polseu (o no) el sensor de tacte."
   ]
  },
  {
   "cell_type": "code",
   "execution_count": 24,
   "metadata": {
    "collapsed": false
   },
   "outputs": [],
   "source": [
    "if touch(): \n",
    "    backward()\n",
    "    sleep(0.2)\n",
    "    stop()\n",
    "else:\n",
    "    forward()\n",
    "    sleep(0.2)\n",
    "    stop()"
   ]
  },
  {
   "cell_type": "markdown",
   "metadata": {},
   "source": [
    "<img src=\"https://upload.wikimedia.org/wikipedia/commons/thumb/4/43/While-loop-diagram.svg/190px-While-loop-diagram.svg.png\" align=\"right\">\n",
    "## Detecció de condicions\n",
    "\n",
    "Imagineu que volem fer un programa per a que el robot avance mentre el sensor de tacte no detecte cap obstacle. Hauríem d'estar comprovant el sensor repetidament fins el moment en què es detectara el contacte.\n",
    "\n",
    "Podríem utilitzar el bucle `for` amb el condicional `if`, però els llenguatges de programació defineixen una estructura equivalent, anomenada **bucle condicional**, o [*while loop*](https://en.wikipedia.org/wiki/While_loop).\n",
    "\n",
    "En Python s'escriu així:\n",
    "\n",
    "```python\n",
    "while condition:\n",
    "    statement\n",
    "```\n",
    "\n",
    "El programa quedaria així:"
   ]
  },
  {
   "cell_type": "code",
   "execution_count": 27,
   "metadata": {
    "collapsed": false
   },
   "outputs": [],
   "source": [
    "while not touch():\n",
    "    forward()\n",
    "stop()"
   ]
  },
  {
   "cell_type": "markdown",
   "metadata": {},
   "source": [
    "Sembla complicat? Les ordres que li esteu donant al robot són molt semblants a les del llenguatge natural, només que en anglès. Si no vos convenç, [mireu la traducció](https://translate.google.com/#en/es/while%20not%20touch%28%29%3A%0A%20%20%20%20forward%28%29%0Astop%28%29) :-)"
   ]
  },
  {
   "cell_type": "markdown",
   "metadata": {
    "collapsed": false
   },
   "source": [
    "## Recapitulem\n",
    "\n",
    "Abans de continuar, desconnecteu el robot:"
   ]
  },
  {
   "cell_type": "code",
   "execution_count": 28,
   "metadata": {
    "collapsed": false
   },
   "outputs": [
    {
     "name": "stdout",
     "output_type": "stream",
     "text": [
      "\u001b[32mRobot 12 desconnectat.\u001b[0m\n"
     ]
    }
   ],
   "source": [
    "disconnect()"
   ]
  },
  {
   "cell_type": "markdown",
   "metadata": {
    "collapsed": true
   },
   "source": [
    "Ara podeu respirar una mica: acabeu de vore dos de les instruccions més importants dels llenguatges de programació:\n",
    "\n",
    "* `if .. else`: permet executar dos ordres diferents segons una condició\n",
    "* `while`: permet repetir una ordre mentre una condició siga verdadera\n",
    "\n",
    "En el següent exercici usarem eixes instruccions, i tot el que hem aprés abans, per a moure el robot de forma autònoma, el que en robòtica s'anomena [*navegació*](https://en.wikipedia.org/wiki/Mobile_robot#Mobile_robot_navigation).\n",
    "\n",
    "### [>>> Exercici de navegació](../sensors/navigation.ipynb)"
   ]
  }
 ],
 "metadata": {
  "anaconda-cloud": {},
  "kernelspec": {
   "display_name": "Python [conda env:py34]",
   "language": "python",
   "name": "conda-env-py34-py"
  },
  "language_info": {
   "codemirror_mode": {
    "name": "ipython",
    "version": 3
   },
   "file_extension": ".py",
   "mimetype": "text/x-python",
   "name": "python",
   "nbconvert_exporter": "python",
   "pygments_lexer": "ipython3",
   "version": "3.4.2"
  }
 },
 "nbformat": 4,
 "nbformat_minor": 2
}
