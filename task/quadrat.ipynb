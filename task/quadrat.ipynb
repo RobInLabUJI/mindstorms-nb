{
 "metadata": {
  "anaconda-cloud": {},
  "kernelspec": {
   "display_name": "Python [conda env:py34]",
   "language": "python",
   "name": "conda-env-py34-py"
  },
  "language_info": {
   "codemirror_mode": {
    "name": "ipython",
    "version": 3
   },
   "file_extension": ".py",
   "mimetype": "text/x-python",
   "name": "python",
   "nbconvert_exporter": "python",
   "pygments_lexer": "ipython3",
   "version": "3.4.2"
  },
  "name": ""
 },
 "nbformat": 3,
 "nbformat_minor": 0,
 "worksheets": [
  {
   "cells": [
    {
     "cell_type": "markdown",
     "metadata": {},
     "source": [
      "# Exercici: fer un quadrat\n",
      "\n",
      "<img src=\"img/bart-simpson-chalkboard.jpg\" align=\"right\" width=250>\n",
      "A partir de les instruccions dels moviments b\u00e0sics, heu de fer un programa per a que el robot avance i gire 90 graus, de manera de fa\u00e7a una traject\u00f2ria quadrada.\n",
      "\n",
      "L'estrat\u00e8gia \u00e9s simple: repetiu quatre vegades el codi necessari per a fer avan\u00e7ar el robot un temps, i girar (a l'esquerra o a la dreta).\n",
      "\n",
      "Abans que res, no oblideu connectar-vos al robot!"
     ]
    },
    {
     "cell_type": "code",
     "collapsed": false,
     "input": [
      "from functions import connect, forward, stop, left, right, disconnect\n",
      "from time import sleep\n",
      "\n",
      "connect()  # Executeu, polsant Maj\u00fascules + Enter"
     ],
     "language": "python",
     "metadata": {},
     "outputs": [],
     "prompt_number": null
    },
    {
     "cell_type": "markdown",
     "metadata": {},
     "source": [
      "### Programa principal\n",
      "Substitu\u00efu els comentaris per les ordres necess\u00e0ries:"
     ]
    },
    {
     "cell_type": "code",
     "collapsed": false,
     "input": [
      "# avan\u00e7ar\n",
      "# girar\n",
      "# avan\u00e7ar\n",
      "# girar\n",
      "# avan\u00e7ar\n",
      "# girar\n",
      "# avan\u00e7ar\n",
      "# girar\n",
      "# parar"
     ],
     "language": "python",
     "metadata": {},
     "outputs": [],
     "prompt_number": null
    },
    {
     "cell_type": "markdown",
     "metadata": {},
     "source": [
      "Ha funcionat a la primera? Fer un quadrat perfecte no \u00e9s f\u00e0cil, i el m\u00e9s normal \u00e9s que calga ajustar un parell de coses:\n",
      "\n",
      "* el gir de 90 graus: si el robot gira massa, heu de disminuir el temps del `sleep`; si gira massa poc, augmentar-lo (podeu posar decimals)\n",
      "\n",
      "* si no va recte: \u00e9s normal que un dels motors gire una mica m\u00e9s r\u00e0pid que l'altre; podeu ajustar les velocitats de cada motor individualment entre 0 (m\u00ednim) i 100 (m\u00e0xim), per exemple:\n",
      "\n",
      "    `forward(speed_B=90,speed_C=75)`\n",
      "    \n",
      "Canvieu els valors i torneu a provar fins aconseguir un quadrat decent (la perfecci\u00f3 \u00e9s impossible)."
     ]
    },
    {
     "cell_type": "markdown",
     "metadata": {},
     "source": [
      "---\n",
      "### Versi\u00f3 pro\n",
      "\n",
      "Els llenguatges de programaci\u00f3 tenen estructures per a repetir blocs d'instruccions sense haver d'escriure-les tantes vegades. \u00c9s el que s'anomena **bucle** o, en angl\u00e8s, [*for loop*](https://en.wikipedia.org/wiki/For_loop).\n",
      "\n",
      "En Python, un bucle per a repetir un bloc d'instruccions quatre vegades s'escriu aix\u00ed:"
     ]
    },
    {
     "cell_type": "code",
     "collapsed": true,
     "input": [
      "for i in range(4):\n",
      "    # avan\u00e7ar\n",
      "    # girar\n",
      "# parar"
     ],
     "language": "python",
     "metadata": {},
     "outputs": [],
     "prompt_number": null
    },
    {
     "cell_type": "markdown",
     "metadata": {},
     "source": [
      "\u00c9s important que les instruccions de *dins* del bucle estiguen despla\u00e7ades cap a la dreta, \u00e9s a dir [**indentades**](https://es.wikipedia.org/wiki/Indentaci%C3%B3n).\n",
      "\n",
      "Substitu\u00efu els comentaris per les instruccions i proveu."
     ]
    },
    {
     "cell_type": "markdown",
     "metadata": {},
     "source": [
      "---\n",
      "### Recapitulem\n",
      "Per a acabar l'exercici, i abans de passar a la seg\u00fcent p\u00e0gina, desconnecteu el robot:"
     ]
    },
    {
     "cell_type": "code",
     "collapsed": false,
     "input": [
      "disconnect()"
     ],
     "language": "python",
     "metadata": {},
     "outputs": [],
     "prompt_number": null
    },
    {
     "cell_type": "markdown",
     "metadata": {},
     "source": [
      "Fins ara heu apr\u00e9s a controlar el moviment del robot, i tamb\u00e9 a programar bucles, no est\u00e0 gens malament!\n",
      "\n",
      "Per a continuar, anem a vore els altres components del robot, els sensors, que ens permetran fer programes encara m\u00e9s sofisticats.\n",
      "\n",
      "### [>>> Sensors](./sensors.ipynb)"
     ]
    }
   ],
   "metadata": {}
  }
 ]
}
