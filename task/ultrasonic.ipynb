{
 "cells": [
  {
   "cell_type": "markdown",
   "metadata": {},
   "source": [
    "# Sensor ultrasònic\n",
    "\n",
    "[<img src=\"img/ultrasound.jpg\" align=\"right\">](https://www.teachengineering.org/lessons/view/umo_sensorswork_lesson06)\n",
    "Aquest sensor també té dos parts:\n",
    "\n",
    "* un emissor d'ultrasons\n",
    "* un receptor d'ultrasons\n",
    "\n",
    "El sensor emet un senyal, i compta el temps fins que detecta l'eco del senyal emés. Com la velocitat del so és coneguda, es pot calcular la distància a la que està l'objecte on ha rebotat l'eco.\n",
    "\n",
    "En primer lloc, connectem el robot."
   ]
  },
  {
   "cell_type": "code",
   "execution_count": null,
   "metadata": {},
   "outputs": [],
   "source": [
    "from functions import connect, ultrasonic, forward, stop\n",
    "\n",
    "connect()"
   ]
  },
  {
   "cell_type": "markdown",
   "metadata": {},
   "source": [
    "## Gràfica del sensor\n",
    "\n",
    "Per a analitzar els valors del sensor, farem també una gràfica: col·locareu el robot a una certa distància d'un obstacle, i el fareu avançar mentre recolleix dades."
   ]
  },
  {
   "cell_type": "code",
   "execution_count": null,
   "metadata": {},
   "outputs": [],
   "source": [
    "forward(speed_B=60,speed_C=70)\n",
    "data = []\n",
    "for i in range(30):\n",
    "    data.append(ultrasonic())\n",
    "stop()"
   ]
  },
  {
   "cell_type": "markdown",
   "metadata": {},
   "source": [
    "A continuació representeu la gràfica. Hauríeu d'obtindre una línia descendent, perquè la distància a l'obstacle disminueix a mesura que el robot avança. No obstant aixó, és normal que hi haja valors que pugen, per interferències, o perquè l'eco no siga prou estable."
   ]
  },
  {
   "cell_type": "code",
   "execution_count": null,
   "metadata": {},
   "outputs": [],
   "source": [
    "from functions import plot\n",
    "plot(data)"
   ]
  },
  {
   "cell_type": "markdown",
   "metadata": {},
   "source": [
    "## Evitar obstacles\n",
    "\n",
    "[<img src=\"img/obstacle.jpg\" width=160 align=\"right\">](https://www.youtube.com/watch?v=Y22JST1TFHY)\n",
    "\n",
    "Per a evitar obstacles, podeu reutilitzar el codi que vau fer amb el sensor de contacte.\n",
    "\n",
    "Ara llegireu valors del sensor ultrasònic, i si són menors que un llindar, fareu la mateixa maniobra de anar cap enrere i girar."
   ]
  },
  {
   "cell_type": "code",
   "execution_count": null,
   "metadata": {},
   "outputs": [],
   "source": [
    "from functions import ___"
   ]
  },
  {
   "cell_type": "code",
   "execution_count": null,
   "metadata": {},
   "outputs": [],
   "source": [
    "try:\n",
    "    while True:\n",
    "        ___\n",
    "except KeyboardInterrupt:\n",
    "    stop() "
   ]
  },
  {
   "cell_type": "markdown",
   "metadata": {},
   "source": [
    "## Recapitulem\n",
    "\n",
    "Hem vist ja tots els sensors, al mateix temps que apreníem tècniques de programació.\n",
    "\n",
    "Esteu preparats per al repte final?\n",
    "\n",
    "Abans de continuar, desconnecteu el robot:"
   ]
  },
  {
   "cell_type": "code",
   "execution_count": null,
   "metadata": {},
   "outputs": [],
   "source": [
    "from functions import disconnect, next_notebook\n",
    "disconnect()\n",
    "next_notebook('sumo')"
   ]
  },
  {
   "cell_type": "code",
   "execution_count": null,
   "metadata": {},
   "outputs": [],
   "source": []
  }
 ],
 "metadata": {
  "anaconda-cloud": {},
  "kernelspec": {
   "display_name": "Python 3",
   "language": "python",
   "name": "python3"
  },
  "language_info": {
   "codemirror_mode": {
    "name": "ipython",
    "version": 3
   },
   "file_extension": ".py",
   "mimetype": "text/x-python",
   "name": "python",
   "nbconvert_exporter": "python",
   "pygments_lexer": "ipython3",
   "version": "3.8.10"
  }
 },
 "nbformat": 4,
 "nbformat_minor": 2
}
