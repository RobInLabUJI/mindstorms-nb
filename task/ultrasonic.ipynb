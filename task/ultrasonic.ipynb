{
 "metadata": {
  "anaconda-cloud": {},
  "kernelspec": {
   "display_name": "Python [conda env:py34]",
   "language": "python",
   "name": "conda-env-py34-py"
  },
  "language_info": {
   "codemirror_mode": {
    "name": "ipython",
    "version": 3
   },
   "file_extension": ".py",
   "mimetype": "text/x-python",
   "name": "python",
   "nbconvert_exporter": "python",
   "pygments_lexer": "ipython3",
   "version": "3.4.2"
  },
  "name": ""
 },
 "nbformat": 3,
 "nbformat_minor": 0,
 "worksheets": [
  {
   "cells": [
    {
     "cell_type": "markdown",
     "metadata": {},
     "source": [
      "# Sensor ultras\u00f2nic\n",
      "\n",
      "[<img src=\"https://teachengineeringprod.blob.core.windows.net/content/umo_/lessons/umo_sensorswork/umo_sensorswork_lesson06_image1web.jpg\" align=\"right\">](https://www.teachengineering.org/lessons/view/umo_sensorswork_lesson06)\n",
      "Aquest sensor tamb\u00e9 t\u00e9 dos parts:\n",
      "\n",
      "* un emissor d'ultrasons\n",
      "* un receptor d'ultrasons\n",
      "\n",
      "El sensor emet un senyal, i compta el temps fins que detecta l'eco del senyal em\u00e9s. Com la velocitat del so \u00e9s coneguda, es pot calcular la dist\u00e0ncia a la que est\u00e0 l'objecte on ha rebotat l'eco.\n",
      "\n",
      "En primer lloc, connectem el robot."
     ]
    },
    {
     "cell_type": "code",
     "collapsed": false,
     "input": [
      "from functions import connect, ultrasonic, forward, stop\n",
      "\n",
      "connect()"
     ],
     "language": "python",
     "metadata": {},
     "outputs": [],
     "prompt_number": null
    },
    {
     "cell_type": "markdown",
     "metadata": {},
     "source": [
      "## Gr\u00e0fica del sensor\n",
      "\n",
      "Per a analitzar els valors del sensor, farem tamb\u00e9 una gr\u00e0fica: col\u00b7locareu el robot a una certa dist\u00e0ncia d'un obstacle, i el fareu avan\u00e7ar mentre recolleix dades."
     ]
    },
    {
     "cell_type": "code",
     "collapsed": false,
     "input": [
      "forward(speed_B=60,speed_C=70)\n",
      "data = []\n",
      "for i in range(30):\n",
      "    data.append(ultrasonic())\n",
      "stop()"
     ],
     "language": "python",
     "metadata": {},
     "outputs": [],
     "prompt_number": null
    },
    {
     "cell_type": "markdown",
     "metadata": {},
     "source": [
      "A continuaci\u00f3 representeu la gr\u00e0fica. Haur\u00edeu d'obtindre una l\u00ednia descendent, perqu\u00e8 la dist\u00e0ncia a l'obstacle disminueix a mesura que el robot avan\u00e7a. No obstant aix\u00f3, \u00e9s normal que hi haja valors que pugen, per interfer\u00e8ncies, o perqu\u00e8 l'eco no siga prou estable."
     ]
    },
    {
     "cell_type": "code",
     "collapsed": false,
     "input": [
      "from functions import plot\n",
      "plot(data)"
     ],
     "language": "python",
     "metadata": {},
     "outputs": [],
     "prompt_number": null
    },
    {
     "cell_type": "markdown",
     "metadata": {},
     "source": [
      "## Evitar obstacles\n",
      "\n",
      "[<img src=\"img/obstacle.jpg\" width=160 align=\"right\">](https://www.youtube.com/watch?v=Y22JST1TFHY)\n",
      "\n",
      "Per a evitar obstacles, podeu reutilitzar el codi que vau fer amb el sensor de contacte.\n",
      "\n",
      "Ara llegireu valors del sensor ultras\u00f2nic, i si s\u00f3n menors que un llindar, fareu la mateixa maniobra de anar cap enrere i girar."
     ]
    },
    {
     "cell_type": "code",
     "collapsed": true,
     "input": [
      "from functions import ___"
     ],
     "language": "python",
     "metadata": {},
     "outputs": [],
     "prompt_number": null
    },
    {
     "cell_type": "code",
     "collapsed": true,
     "input": [
      "try:\n",
      "    while True:\n",
      "        ___\n",
      "except KeyboardInterrupt:\n",
      "    stop() "
     ],
     "language": "python",
     "metadata": {},
     "outputs": [],
     "prompt_number": null
    },
    {
     "cell_type": "markdown",
     "metadata": {
      "collapsed": false
     },
     "source": [
      "## Recapitulem\n",
      "\n",
      "Abans de continuar, desconnecteu el robot:"
     ]
    },
    {
     "cell_type": "code",
     "collapsed": false,
     "input": [
      "from functions import disconnect\n",
      "disconnect()"
     ],
     "language": "python",
     "metadata": {},
     "outputs": [],
     "prompt_number": null
    },
    {
     "cell_type": "markdown",
     "metadata": {
      "collapsed": true
     },
     "source": [
      "Hem vist ja tots els sensors, al mateix temps que apren\u00edem t\u00e8cniques de programaci\u00f3.\n",
      "\n",
      "Esteu preparats per al repte final?\n",
      "\n",
      "### [>>> El Gran Repte](sumo.ipynb)"
     ]
    }
   ],
   "metadata": {}
  }
 ]
}
