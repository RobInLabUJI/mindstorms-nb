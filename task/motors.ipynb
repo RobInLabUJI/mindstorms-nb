{
 "metadata": {
  "anaconda-cloud": {},
  "kernelspec": {
   "display_name": "Python [conda env:py34]",
   "language": "python",
   "name": "conda-env-py34-py"
  },
  "language_info": {
   "codemirror_mode": {
    "name": "ipython",
    "version": 3
   },
   "file_extension": ".py",
   "mimetype": "text/x-python",
   "name": "python",
   "nbconvert_exporter": "python",
   "pygments_lexer": "ipython3",
   "version": "3.4.2"
  },
  "name": ""
 },
 "nbformat": 3,
 "nbformat_minor": 0,
 "worksheets": [
  {
   "cells": [
    {
     "cell_type": "markdown",
     "metadata": {},
     "source": [
      "# Moviments b\u00e0sics del robot\n",
      "\n",
      "El robot t\u00e9 dos motors, que controlen cadascuna de les rodes amb uns engranatges. Estan connectats amb cables al controlador, de manera que les ordres del programa es tradueixen en senyals el\u00e8ctrics per a fer girar els motors.\n",
      "\n",
      "<table>\n",
      "<tr>\n",
      "<td>[<img src=\"img/rcx_motor.jpg\">](http://www.philohome.com/motors/motorcomp.htm)</td>\n",
      "<td>[<img src=\"img/ev3_motor.png\" width=200>](http://www.philohome.com/motors/motorcomp.htm)</td>\n",
      "</tr>\n",
      "<tr><td>Motor del robot NXT</td><td>Motor del robot EV3</td></tr>\n",
      "</table>\n",
      "\n",
      "Els motors es controlen independentment, la qual cosa permet diferents moviments:\n",
      "\n",
      "* si els dos motors giren al mateix temps, el robot avan\u00e7a o retrocedeix\n",
      "* si un motor gira i l'altre no, el robot gira a esquerra o dreta\n",
      "\n",
      "Anem a vore les funcions que controlen el moviment, per\u00f2 abans que res, heu de tornar a establir la connexi\u00f3 amb el robot."
     ]
    },
    {
     "cell_type": "code",
     "collapsed": false,
     "input": [
      "from functions import connect, forward, backward, stop, left, right, disconnect\n",
      "from time import sleep\n",
      "\n",
      "connect()  # Executeu, polsant Maj\u00fascules + Enter"
     ],
     "language": "python",
     "metadata": {},
     "outputs": [],
     "prompt_number": null
    },
    {
     "cell_type": "markdown",
     "metadata": {},
     "source": [
      "### Cap avant\n",
      "\n",
      "Per a fer el robot anar cap avant calen tres ordres:\n",
      "* `forward` posa els motors en marxa per a anar cap avant\n",
      "* `sleep` fa una pausa (per exemple 1 segon) durant la qual el robot es mou\n",
      "* `stop` para els motors"
     ]
    },
    {
     "cell_type": "code",
     "collapsed": false,
     "input": [
      "forward()\n",
      "sleep(1)\n",
      "stop()"
     ],
     "language": "python",
     "metadata": {},
     "outputs": [],
     "prompt_number": null
    },
    {
     "cell_type": "markdown",
     "metadata": {},
     "source": [
      "### Cap arrere\n",
      "El mateix, canviant la primera ordre."
     ]
    },
    {
     "cell_type": "code",
     "collapsed": true,
     "input": [
      "backward()\n",
      "sleep(1)\n",
      "stop()"
     ],
     "language": "python",
     "metadata": {},
     "outputs": [],
     "prompt_number": null
    },
    {
     "cell_type": "markdown",
     "metadata": {},
     "source": [
      "### Esquerra\n",
      "Idem."
     ]
    },
    {
     "cell_type": "code",
     "collapsed": true,
     "input": [
      "left()\n",
      "sleep(1)\n",
      "stop()"
     ],
     "language": "python",
     "metadata": {},
     "outputs": [],
     "prompt_number": null
    },
    {
     "cell_type": "markdown",
     "metadata": {},
     "source": [
      "### Dreta\n",
      "De la mateixa manera, *of course*."
     ]
    },
    {
     "cell_type": "code",
     "collapsed": true,
     "input": [
      "right()\n",
      "sleep(1)\n",
      "stop()"
     ],
     "language": "python",
     "metadata": {},
     "outputs": [],
     "prompt_number": null
    },
    {
     "cell_type": "markdown",
     "metadata": {},
     "source": [
      "Tot correcte? F\u00e0cil, no? Anem a comprovar-ho amb el primer exercici, per\u00f2 abans de canviar de p\u00e0gina, recordeu desconnectar el robot:"
     ]
    },
    {
     "cell_type": "code",
     "collapsed": false,
     "input": [
      "disconnect()"
     ],
     "language": "python",
     "metadata": {},
     "outputs": [],
     "prompt_number": null
    },
    {
     "cell_type": "markdown",
     "metadata": {},
     "source": [
      "Ara ja podeu continuar, bona sort!\n",
      "\n",
      "### [>>> Exercici de moviment](quadrat.ipynb)"
     ]
    }
   ],
   "metadata": {}
  }
 ]
}
