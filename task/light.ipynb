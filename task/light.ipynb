{
 "metadata": {
  "anaconda-cloud": {},
  "kernelspec": {
   "display_name": "Python [conda env:py34]",
   "language": "python",
   "name": "conda-env-py34-py"
  },
  "language_info": {
   "codemirror_mode": {
    "name": "ipython",
    "version": 3
   },
   "file_extension": ".py",
   "mimetype": "text/x-python",
   "name": "python",
   "nbconvert_exporter": "python",
   "pygments_lexer": "ipython3",
   "version": "3.4.2"
  },
  "name": ""
 },
 "nbformat": 3,
 "nbformat_minor": 0,
 "worksheets": [
  {
   "cells": [
    {
     "cell_type": "markdown",
     "metadata": {},
     "source": [
      "# Sensor de llum\n",
      "\n",
      "<img src=\"http://www.nxtprograms.com/line_follower/DCP_2945.JPG\" align=\"right\">\n",
      "Aquest sensor t\u00e9 dos parts:\n",
      "\n",
      "* un diode emissor de llum roja\n",
      "* un transistor detector de llum, que d\u00f3na un valor proporcional a la intensitat de llum reflectida per la superf\u00edcie\n",
      "\n",
      "Utilitzarem el sensor per a detectar una l\u00ednia negra, i controlar el robot per a seguir la traject\u00f2ria. \n",
      "\n",
      "En primer lloc, connectem el robot."
     ]
    },
    {
     "cell_type": "code",
     "collapsed": false,
     "input": [
      "from functions import connect, light, forward, stop\n",
      "\n",
      "connect()"
     ],
     "language": "python",
     "metadata": {},
     "outputs": [],
     "prompt_number": null
    },
    {
     "cell_type": "markdown",
     "metadata": {},
     "source": [
      "## Gr\u00e0fica del sensor\n",
      "\n",
      "Per a analitzar els valors del sensor, farem una gr\u00e0fica, per\u00f2 en aquest mentre el robot es mou.\n",
      "\n",
      "Heu de col\u00b7locar el robot perpendicularment a la l\u00ednia negra, de manera que el codi seg\u00fcent far\u00e0 avan\u00e7ar el robot uns segons per a travessar-la, llegint els valos abans de la l\u00ednia, sobre ella, i despr\u00e9s de la l\u00ednia."
     ]
    },
    {
     "cell_type": "code",
     "collapsed": false,
     "input": [
      "forward()\n",
      "data = []\n",
      "for i in range(25):\n",
      "    data.append(light())\n",
      "stop()"
     ],
     "language": "python",
     "metadata": {},
     "outputs": [],
     "prompt_number": null
    },
    {
     "cell_type": "markdown",
     "metadata": {},
     "source": [
      "A continuaci\u00f3 representeu la gr\u00e0fica. Haur\u00edeu d'obtindre una mena de \"V\" perqu\u00e8 els valors alts corresponen a la superf\u00edcie blanca (que reflexa m\u00e9s llum) i els baixos a la negra (que en reflexa menys)."
     ]
    },
    {
     "cell_type": "code",
     "collapsed": false,
     "input": [
      "from functions import plot\n",
      "plot(data)"
     ],
     "language": "python",
     "metadata": {},
     "outputs": [],
     "prompt_number": null
    },
    {
     "cell_type": "markdown",
     "metadata": {},
     "source": [
      "Heu de seleccionar un valor intermedi per a distingir entre blanc i negre. Ser\u00e0 el **llindar** que usareu: \n",
      "\n",
      "* si la lectura est\u00e0 per damunt, el sensor est\u00e0 detectant blanc\n",
      "* si est\u00e0 per baix, negre.\n",
      "\n",
      "## Seguiment de l\u00ednia, versi\u00f3 1.0\n",
      "\n",
      "<img src=\"http://nxtprograms.com/NXT2/line_follower/DSC_3213.JPG\" width=240 align=\"right\">\n",
      "\n",
      "Per a seguir la l\u00ednia, la idea \u00e9s senzilla:\n",
      "\n",
      "* el robot va pel costat de la l\u00ednia, per la part de dins del circuit tancat\n",
      "* si el sensor detecta blanc, el robot va recte \n",
      "* si detecta negre, el robot gira per rectificar la seua traject\u00f2ria \n",
      "\n",
      "Depenent del sentit en que est\u00e0 recorrent el circuit, haur\u00e0 de rectificar girant a l'esquerra o a la dreta."
     ]
    },
    {
     "cell_type": "code",
     "collapsed": true,
     "input": [
      "from functions import left, right"
     ],
     "language": "python",
     "metadata": {},
     "outputs": [],
     "prompt_number": null
    },
    {
     "cell_type": "code",
     "collapsed": true,
     "input": [
      "try:\n",
      "    while True:\n",
      "        if ___:\n",
      "            ___\n",
      "        else:\n",
      "            ___\n",
      "except KeyboardInterrupt:\n",
      "    stop() "
     ],
     "language": "python",
     "metadata": {},
     "outputs": [],
     "prompt_number": null
    },
    {
     "cell_type": "markdown",
     "metadata": {},
     "source": [
      "## Versi\u00f3 2.0\n",
      "\n",
      "Si el robot se n'ix per la curva, cal fer un gir m\u00e9s pronunciat. Les funcions que hem utilitzat fins ara giren una roda mentre l'altra est\u00e0 parada. Es pot girar m\u00e9s si, en lloc d'estar parada, l'altra roda gira en sentit contrari. Per a fer-ho, useu les seg\u00fcents funcions:"
     ]
    },
    {
     "cell_type": "code",
     "collapsed": true,
     "input": [
      "from functions import left_sharp, right_sharp"
     ],
     "language": "python",
     "metadata": {},
     "outputs": [],
     "prompt_number": null
    },
    {
     "cell_type": "code",
     "collapsed": true,
     "input": [
      "try:\n",
      "    while True:\n",
      "        if ___:\n",
      "            ___\n",
      "        else:\n",
      "            ___\n",
      "except KeyboardInterrupt:\n",
      "    stop() "
     ],
     "language": "python",
     "metadata": {},
     "outputs": [],
     "prompt_number": null
    },
    {
     "cell_type": "markdown",
     "metadata": {},
     "source": [
      "## Versi\u00f3 3.0\n",
      "\n",
      "En general, pot haver curves a esquerra i dreta. Aleshores, el m\u00e8tode anterior no \u00e9s suficient. Una soluci\u00f3 seria usar dos sensors, un per cada costat de la l\u00ednia, per\u00f2 nom\u00e9s en tenim un per robot.\n",
      "\n",
      "Una altra soluci\u00f3 \u00e9s fer que el sensor vaja per la vora de la l\u00ednia, de manera que la superf\u00edcie ser\u00e0 meitat negra i meitat blanca. Si definim **dos llindars**, aleshores:\n",
      "\n",
      "* si el sensor est\u00e0 per baix dels dos llindars, \u00e9s negre\n",
      "* si est\u00e0 per dalt dels dos, \u00e9s blanc\n",
      "* si est\u00e0 enmig, \u00e9s la vora de la l\u00ednia\n",
      "\n",
      "El robot anir\u00e0 recte quan vaja per la vora de la l\u00ednia, i pot rectificar a esquerra en un cas, i a dreta en l'altre."
     ]
    },
    {
     "cell_type": "code",
     "collapsed": true,
     "input": [
      "try:\n",
      "    while True:\n",
      "        if ___:\n",
      "            ___\n",
      "        else:\n",
      "            if ___:\n",
      "                ___\n",
      "            else:\n",
      "                ___\n",
      "except KeyboardInterrupt:\n",
      "    stop() "
     ],
     "language": "python",
     "metadata": {},
     "outputs": [],
     "prompt_number": null
    },
    {
     "cell_type": "markdown",
     "metadata": {},
     "source": [
      "## Versi\u00f3 4.0\n",
      "\n",
      "Si el robot oscil\u00b7la massa, fins i tot pot travessar la l\u00ednia i desorientar-se completament.\n",
      "\n",
      "La soluci\u00f3 \u00e9s disminuir la velocitat, indicant-ho a les funcions de moviment, per exemple:\n",
      "\n",
      "```python\n",
      "forward(speed=65)\n",
      "```\n",
      "\n",
      "El valor per defecte \u00e9s 100, el m\u00e0xim, i el m\u00ednim \u00e9s 0."
     ]
    },
    {
     "cell_type": "code",
     "collapsed": true,
     "input": [
      "try:\n",
      "    while True:\n",
      "        if ___:\n",
      "            ___\n",
      "        else:\n",
      "            if ___:\n",
      "                ___\n",
      "            else:\n",
      "                ___\n",
      "except KeyboardInterrupt:\n",
      "    stop() "
     ],
     "language": "python",
     "metadata": {},
     "outputs": [],
     "prompt_number": null
    },
    {
     "cell_type": "markdown",
     "metadata": {
      "collapsed": false
     },
     "source": [
      "## Recapitulem\n",
      "\n",
      "Abans de continuar, desconnecteu el robot:"
     ]
    },
    {
     "cell_type": "code",
     "collapsed": false,
     "input": [
      "from functions import disconnect\n",
      "disconnect()"
     ],
     "language": "python",
     "metadata": {},
     "outputs": [],
     "prompt_number": null
    },
    {
     "cell_type": "markdown",
     "metadata": {},
     "source": [
      "En aquesta p\u00e0gina no hem vist conceptes nous, per\u00f2 hem aplicat el que ja sab\u00edem al problema de seguir la l\u00ednia."
     ]
    },
    {
     "cell_type": "markdown",
     "metadata": {
      "collapsed": true
     },
     "source": [
      "\n",
      "\n",
      "Passem a vore el darrer sensor.\n",
      "\n",
      "### [>>> Sensor ultras\u00f2nic](./ultrasonic.ipynb)"
     ]
    }
   ],
   "metadata": {}
  }
 ]
}
