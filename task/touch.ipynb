{
 "metadata": {
  "anaconda-cloud": {},
  "kernelspec": {
   "display_name": "Python [conda env:py34]",
   "language": "python",
   "name": "conda-env-py34-py"
  },
  "language_info": {
   "codemirror_mode": {
    "name": "ipython",
    "version": 3
   },
   "file_extension": ".py",
   "mimetype": "text/x-python",
   "name": "python",
   "nbconvert_exporter": "python",
   "pygments_lexer": "ipython3",
   "version": "3.4.2"
  },
  "name": ""
 },
 "nbformat": 3,
 "nbformat_minor": 0,
 "worksheets": [
  {
   "cells": [
    {
     "cell_type": "markdown",
     "metadata": {},
     "source": [
      "# Sensor de tacte\n",
      "\n",
      "<img src=\"https://upload.wikimedia.org/wikipedia/commons/thumb/c/c5/If-Then-Else-diagram.svg/246px-If-Then-Else-diagram.svg.png\" align=\"right\">\n",
      "Els sensors permeten al robot reaccionar a les condicions de l'entorn, i executar ordres diferents en cada cas.\n",
      "\n",
      "Per a fer aix\u00f2, a m\u00e9s del sensor, es necessita una instrucci\u00f3 del llenguatge de programaci\u00f3 que permet triar entre dos situacions, anomenada [condicional](https://en.wikipedia.org/wiki/Conditional_(computer_programming&#41;).\n",
      "\n",
      "En Python s'escriu aix\u00ed:\n",
      "\n",
      "```python\n",
      "if condition:\n",
      "    one_statement\n",
      "else:\n",
      "    another_statement\n",
      "```\n",
      "\n",
      "Aleshores, si la condici\u00f3 es verdadera, s'executa la primera ordre, i si no, la segona.\n",
      "\n",
      "Vegem un exemple, per\u00f2 primer connectem el robot."
     ]
    },
    {
     "cell_type": "code",
     "collapsed": false,
     "input": [
      "from functions import connect, touch, forward, backward, stop, disconnect\n",
      "from time import sleep\n",
      "connect()"
     ],
     "language": "python",
     "metadata": {},
     "outputs": [],
     "prompt_number": null
    },
    {
     "cell_type": "markdown",
     "metadata": {},
     "source": [
      "El codi seg\u00fcent comprova el sensor de tacte:\n",
      "\n",
      "* si est\u00e0 polsat, el robot va cap enrere\n",
      "* si no est\u00e0 polsat, va cap avant\n",
      "\n",
      "Proveu-lo amb `Ctrl+Enter` mentre polseu (o no) el sensor de tacte."
     ]
    },
    {
     "cell_type": "code",
     "collapsed": false,
     "input": [
      "if touch(): \n",
      "    backward()\n",
      "    sleep(0.2)\n",
      "    stop()\n",
      "else:\n",
      "    forward()\n",
      "    sleep(0.2)\n",
      "    stop()"
     ],
     "language": "python",
     "metadata": {},
     "outputs": [],
     "prompt_number": null
    },
    {
     "cell_type": "markdown",
     "metadata": {},
     "source": [
      "<img src=\"https://upload.wikimedia.org/wikipedia/commons/thumb/4/43/While-loop-diagram.svg/190px-While-loop-diagram.svg.png\" align=\"right\">\n",
      "## Detecci\u00f3 de condicions\n",
      "\n",
      "Imagineu que volem fer un programa per a que el robot avance mentre el sensor de tacte no detecte cap obstacle. Haur\u00edem d'estar comprovant el sensor repetidament fins el moment en qu\u00e8 es detectara el contacte.\n",
      "\n",
      "Podr\u00edem utilitzar el bucle `for` amb el condicional `if`, per\u00f2 els llenguatges de programaci\u00f3 defineixen una estructura equivalent, anomenada **bucle condicional**, o [*while loop*](https://en.wikipedia.org/wiki/While_loop).\n",
      "\n",
      "En Python s'escriu aix\u00ed:\n",
      "\n",
      "```python\n",
      "while condition:\n",
      "    statement\n",
      "```\n",
      "\n",
      "Aleshores, l'ordre s'executa repetidament, mentre la condici\u00f3 siga verdadera.\n",
      "\n",
      "El programa quedaria aix\u00ed:"
     ]
    },
    {
     "cell_type": "code",
     "collapsed": false,
     "input": [
      "while not touch():\n",
      "    forward()\n",
      "stop()"
     ],
     "language": "python",
     "metadata": {},
     "outputs": [],
     "prompt_number": null
    },
    {
     "cell_type": "markdown",
     "metadata": {},
     "source": [
      "Sembla complicat? Les ordres que li esteu donant al robot s\u00f3n molt semblants a les del llenguatge natural, nom\u00e9s que en angl\u00e8s. Si no vos conven\u00e7, [mireu la traducci\u00f3](https://translate.google.com/#en/es/while%20not%20touch%28%29%3A%0A%20%20%20%20forward%28%29%0Astop%28%29) :-)"
     ]
    },
    {
     "cell_type": "markdown",
     "metadata": {
      "collapsed": false
     },
     "source": [
      "## Recapitulem\n",
      "\n",
      "Abans de continuar, desconnecteu el robot:"
     ]
    },
    {
     "cell_type": "code",
     "collapsed": false,
     "input": [
      "disconnect()"
     ],
     "language": "python",
     "metadata": {},
     "outputs": [],
     "prompt_number": null
    },
    {
     "cell_type": "markdown",
     "metadata": {
      "collapsed": true
     },
     "source": [
      "Ara podeu respirar una mica: acabeu de vore dos de les instruccions m\u00e9s importants dels llenguatges de programaci\u00f3:\n",
      "\n",
      "* `if .. else`: permet executar dos ordres diferents segons una condici\u00f3 siga verdadera o falsa\n",
      "* `while`: permet repetir una ordre mentre una condici\u00f3 siga verdadera\n",
      "\n",
      "En el seg\u00fcent exercici usarem eixes instruccions, i tot el que hem apr\u00e9s abans, per a moure el robot de forma aut\u00f2noma, el que en rob\u00f2tica s'anomena [*navegaci\u00f3*](https://en.wikipedia.org/wiki/Mobile_robot#Mobile_robot_navigation).\n",
      "\n",
      "### [>>> Exercici de navegaci\u00f3](./navigation.ipynb)"
     ]
    }
   ],
   "metadata": {}
  }
 ]
}
