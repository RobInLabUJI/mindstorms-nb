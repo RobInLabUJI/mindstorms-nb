{
 "cells": [
  {
   "cell_type": "markdown",
   "metadata": {},
   "source": [
    "# Prova de connexió\n",
    "\n",
    "Assegureu-vos de que el controlador del robot està en marxa, i proveu el següent codi, fent clic amb el ratolí, i polsant simultàniament les tecles *Majúscules* i *Enter*."
   ]
  },
  {
   "cell_type": "code",
   "execution_count": null,
   "metadata": {},
   "outputs": [],
   "source": [
    "from functions import connect\n",
    "connect()  # Executeu, polsant Majúscules + Enter"
   ]
  },
  {
   "cell_type": "markdown",
   "metadata": {},
   "source": [
    "Si apareix un missatge de confirmació, enhorabona, tot funciona. Si no, hi ha algun problema i haureu de cridar el professor de l'aula.\n",
    "\n",
    "Proveu ara unes ordres senzilles per al robot: moure el robot cap avant durant un segon, i parar."
   ]
  },
  {
   "cell_type": "code",
   "execution_count": null,
   "metadata": {},
   "outputs": [],
   "source": [
    "from functions import forward, stop # cliqueu ací, i polseu Majúscules + Enter\n",
    "from time import sleep              # per a executar el bloc d'ordres\n",
    "forward()\n",
    "sleep(1)\n",
    "stop()"
   ]
  },
  {
   "cell_type": "markdown",
   "metadata": {},
   "source": [
    "Tot correcte? Magnífic! Durant el taller voreu més ordres i aprendreu a combinar-les fent programes més complicats. Ara, abans de passar a la pàgina següent, heu de desconnectar el robot del programa d'esta pàgina (només pot haver una connexió simultània)."
   ]
  },
  {
   "cell_type": "code",
   "execution_count": null,
   "metadata": {},
   "outputs": [],
   "source": [
    "from functions import disconnect, next_notebook\n",
    "disconnect()\n",
    "next_notebook('moviments')"
   ]
  },
  {
   "cell_type": "code",
   "execution_count": null,
   "metadata": {},
   "outputs": [],
   "source": []
  }
 ],
 "metadata": {
  "anaconda-cloud": {},
  "kernelspec": {
   "display_name": "Python 3",
   "language": "python",
   "name": "python3"
  },
  "language_info": {
   "codemirror_mode": {
    "name": "ipython",
    "version": 3
   },
   "file_extension": ".py",
   "mimetype": "text/x-python",
   "name": "python",
   "nbconvert_exporter": "python",
   "pygments_lexer": "ipython3",
   "version": "3.8.10"
  }
 },
 "nbformat": 4,
 "nbformat_minor": 2
}
