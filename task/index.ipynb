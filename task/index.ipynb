{
 "metadata": {
  "anaconda-cloud": {},
  "kernelspec": {
   "display_name": "Python [conda env:py34]",
   "language": "python",
   "name": "conda-env-py34-py"
  },
  "language_info": {
   "codemirror_mode": {
    "name": "ipython",
    "version": 3
   },
   "file_extension": ".py",
   "mimetype": "text/x-python",
   "name": "python",
   "nbconvert_exporter": "python",
   "pygments_lexer": "ipython3",
   "version": "3.4.2"
  },
  "name": ""
 },
 "nbformat": 3,
 "nbformat_minor": 0,
 "worksheets": [
  {
   "cells": [
    {
     "cell_type": "markdown",
     "metadata": {
      "collapsed": false
     },
     "source": [
      "# Prova de connexi\u00f3\n",
      "\n",
      "Assegureu-vos de que el controlador del robot est\u00e0 en marxa, i proveu el seg\u00fcent codi, fent clic amb el ratol\u00ed, i polsant simult\u00e0niament les tecles *Maj\u00fascules* i *Enter*."
     ]
    },
    {
     "cell_type": "code",
     "collapsed": false,
     "input": [
      "from functions import connect\n",
      "connect()  # Executeu, polsant Maj\u00fascules + Enter"
     ],
     "language": "python",
     "metadata": {},
     "outputs": [],
     "prompt_number": null
    },
    {
     "cell_type": "markdown",
     "metadata": {},
     "source": [
      "Si apareix un missatge de confirmaci\u00f3, enhorabona, tot funciona. Si no, hi ha algun problema i haureu de cridar el professor de l'aula.\n",
      "\n",
      "Proveu ara unes ordres senzilles per al robot: moure el robot cap avant durant un segon, i parar."
     ]
    },
    {
     "cell_type": "code",
     "collapsed": false,
     "input": [
      "from functions import forward, stop # cliqueu ac\u00ed, i polseu Maj\u00fascules + Enter\n",
      "from time import sleep              # per a executar el bloc d'ordres\n",
      "forward()\n",
      "sleep(1)\n",
      "stop()"
     ],
     "language": "python",
     "metadata": {},
     "outputs": [],
     "prompt_number": null
    },
    {
     "cell_type": "markdown",
     "metadata": {},
     "source": [
      "Tot correcte? Magn\u00edfic! Durant el taller voreu m\u00e9s ordres i aprendreu a combinar-les fent programes m\u00e9s complicats. Ara, abans de passar a la p\u00e0gina seg\u00fcent, heu de desconnectar el robot del programa d'esta p\u00e0gina (nom\u00e9s pot haver una connexi\u00f3 simult\u00e0nia)."
     ]
    },
    {
     "cell_type": "code",
     "collapsed": false,
     "input": [
      "from functions import disconnect\n",
      "disconnect()"
     ],
     "language": "python",
     "metadata": {},
     "outputs": [],
     "prompt_number": null
    },
    {
     "cell_type": "markdown",
     "metadata": {},
     "source": [
      "Ja podeu passar a la p\u00e0gina seg\u00fcent, on aprendreu a controlar els moviments del robot:\n",
      "\n",
      "### [>>> Moviments del robot](motors.ipynb)"
     ]
    }
   ],
   "metadata": {}
  }
 ]
}
