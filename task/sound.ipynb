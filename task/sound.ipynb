{
 "cells": [
  {
   "cell_type": "markdown",
   "metadata": {},
   "source": [
    "[<img src=\"img/nao.jpg\" align=\"right\" width=200>](https://www.ald.softbankrobotics.com/en/cool-robots/nao)\n",
    "# Sensor de so (micròfon)\n",
    "\n",
    "El micròfon del robot detecta el soroll ambiental. No sap reconèixer paraules, però si pot reaccionar a una palmada, o un crit. Altres robots més sofisticats com el de la imatge sí que poden parlar i reconèixer el llenguatge.\n",
    "\n",
    "En aquesta pàgina analitzarem els valors del sensor, i l'usarem per a controlar el robot.\n",
    "\n",
    "Primer que res, ens connectem."
   ]
  },
  {
   "cell_type": "code",
   "execution_count": null,
   "metadata": {
    "collapsed": false
   },
   "outputs": [],
   "source": [
    "from functions import connect, sound, forward, stop\n",
    "\n",
    "connect()"
   ]
  },
  {
   "cell_type": "markdown",
   "metadata": {},
   "source": [
    "## Anàlisi del so\n",
    "\n",
    "Si recordeu un exemple anterior, la funció `sound` ens retorna un valor entre 0 i 100, segons la intensitat del so. Anem a provar-la de nou, però representant el seu valor en una gràfica.\n",
    "\n",
    "Per a això, el que farem és recollir dades: llegirem els valors de la funció vàries vegades i els guardarem en la memòria de l'ordinador, per a després representar gràficament els valors.\n",
    "\n",
    "Per a guardar dades en la memòria, els llenguatges de programació fan servir [**variables**](https://es.wikipedia.org/wiki/Variable_%28programaci%C3%B3n%29).\n",
    "\n",
    "En el següent exemple, usem una variable anomenada `data`, que contindrà la llista de valors que llegim del sensor. Inicialment estarà buida, i dins del bucle anirem afegint valors."
   ]
  },
  {
   "cell_type": "code",
   "execution_count": null,
   "metadata": {
    "collapsed": false
   },
   "outputs": [],
   "source": [
    "data = []                 # executeu este codi mentre parleu al micròfon\n",
    "for i in range(100):\n",
    "    data.append(sound())"
   ]
  },
  {
   "cell_type": "markdown",
   "metadata": {},
   "source": [
    "Ara representarem gràficament els valors llegits."
   ]
  },
  {
   "cell_type": "code",
   "execution_count": null,
   "metadata": {
    "collapsed": false
   },
   "outputs": [],
   "source": [
    "from functions import plot\n",
    "plot(data)"
   ]
  },
  {
   "cell_type": "markdown",
   "metadata": {
    "collapsed": true
   },
   "source": [
    "Normalment voreu valors que pugen i baixen, entre 0 i 100, segons parleu menys o més fort. Podeu provar també a donar palmades.\n",
    "\n",
    "Aleshores, per a controlar el robot, podem fer que reaccione quan el valor del so siga més alt d'un determinat llindar (*umbral* en castellà)."
   ]
  },
  {
   "cell_type": "markdown",
   "metadata": {},
   "source": [
    "## Control a distància per so\n",
    "\n",
    "Feu un programa per a que el robot vaja recte mentre no li digueu que pare, és a dir, mentre no detecte un so alt."
   ]
  },
  {
   "cell_type": "code",
   "execution_count": null,
   "metadata": {
    "collapsed": false
   },
   "outputs": [],
   "source": [
    "while ___:\n",
    "    ___\n",
    "___"
   ]
  },
  {
   "cell_type": "markdown",
   "metadata": {},
   "source": [
    "## Navegació *controlada*\n",
    "\n",
    "Modifiqueu el programa de navegació, de manera que, en lloc de girar quan el robot detecta un contacte, ho faça quan detecta un so, per exemple una palmada."
   ]
  },
  {
   "cell_type": "code",
   "execution_count": null,
   "metadata": {
    "collapsed": false
   },
   "outputs": [],
   "source": [
    "from functions import backward, left, right\n",
    "from time import sleep\n",
    "from random import random\n",
    "\n",
    "try:\n",
    "    while True:\n",
    "        while ___:\n",
    "            ___\n",
    "        ___\n",
    "        if ___:\n",
    "            ___\n",
    "        else:\n",
    "            ___\n",
    "        ___\n",
    "except KeyboardInterrupt:\n",
    "    stop()"
   ]
  },
  {
   "cell_type": "markdown",
   "metadata": {},
   "source": [
    "### Usar els dos sensors al mateix temps\n",
    "\n",
    "En lloc de substiuir la condició de contacte per la de so, també podem *afegir* eixa segona condició a la primera. Els llenguatges de programació poden fer **operacions lògiques** per a combinar condicions. No és tan complicat com pareix, per exemple, les dos condicions s'escriurien així:\n",
    "\n",
    "    mentre el so siga menor que 50 i no hi haja contacte\n",
    "    \n",
    "Per a programar-ho en Python, només cal saber que \"i\" en anglès s'escriu \"and\" ;-)"
   ]
  },
  {
   "cell_type": "code",
   "execution_count": null,
   "metadata": {
    "collapsed": false
   },
   "outputs": [],
   "source": [
    "from functions import backward, left, right, touch\n",
    "from time import sleep\n",
    "from random import random\n",
    "\n",
    "try:\n",
    "    while True:\n",
    "        while ___ and ___:\n",
    "            ___\n",
    "        ___\n",
    "        if ___:\n",
    "            ___\n",
    "        else:\n",
    "            ___\n",
    "        ___\n",
    "except KeyboardInterrupt:\n",
    "    stop()"
   ]
  },
  {
   "cell_type": "markdown",
   "metadata": {},
   "source": [
    "### Indicar la direcció\n",
    "\n",
    "Controlar el robot, per a que després gire a l'atzar, no queda massa bé. Seria millor que poguérem controlar la direcció del gir amb el so. Recordeu que el robot no reconeix els sons, només els canvis de volum.\n",
    "\n",
    "Com podríeu indicar-li la direcció de gir? A la millor, en compte d'un número a l'atzar, podríeu comprovar el valor del sensor de so un segon cop. Aleshores, amb una sola palmada, el robot giraria cap a un costat, i amb dos, cap a l'altre."
   ]
  },
  {
   "cell_type": "code",
   "execution_count": null,
   "metadata": {
    "collapsed": false
   },
   "outputs": [],
   "source": [
    "from functions import backward, left, right, touch\n",
    "from time import sleep\n",
    "from random import random\n",
    "\n",
    "try:\n",
    "    while True:\n",
    "        while ___:\n",
    "            ___\n",
    "        ___\n",
    "        if ___:\n",
    "            ___\n",
    "        else:\n",
    "            ___\n",
    "        ___\n",
    "except KeyboardInterrupt:\n",
    "    stop()"
   ]
  },
  {
   "cell_type": "markdown",
   "metadata": {},
   "source": [
    "### I el gran repte\n",
    "\n",
    "Podeu fer una versió completa amb tot?\n",
    "\n",
    "* el robot va recte mentre no hi haja contacte ni detecte cap so alt\n",
    "* si detecta un contacte, va cap arrere i gira a l'atzar a esquerra o dreta\n",
    "* però si el que ha detectat és el so, va cap arrere, i si detecta un segon so, gira a esquerra i si no a dreta\n",
    "\n",
    "Complicat? No tant, però cal tindre les idees clares!"
   ]
  },
  {
   "cell_type": "code",
   "execution_count": null,
   "metadata": {
    "collapsed": false
   },
   "outputs": [],
   "source": [
    "from functions import backward, left, right, touch\n",
    "from time import sleep\n",
    "from random import random\n",
    "\n",
    "try:\n",
    "    while True:\n",
    "        while ___:\n",
    "            ___\n",
    "        if ___:\n",
    "            ___\n",
    "            if ___:\n",
    "                ___\n",
    "            else:\n",
    "                ___\n",
    "            ___\n",
    "        else:\n",
    "            ___\n",
    "            if ___:\n",
    "                ___\n",
    "            else:\n",
    "                ___\n",
    "            ___\n",
    "except KeyboardInterrupt:\n",
    "    stop()"
   ]
  },
  {
   "cell_type": "markdown",
   "metadata": {
    "collapsed": false
   },
   "source": [
    "## Recapitulem\n",
    "\n",
    "Si heu arribat fins ací fent totes les variants, enhorabona! Comenceu a controlar de debó la programació. Si no, no patiu, açò no s'apren en dos hores!\n",
    "\n",
    "En aquesta pàgina hem donat una ullada a les variables i a les operacions lògiques, i hem anat anidant cada cop més bucles i condicionals. Així és la programació!\n",
    "\n",
    "I només hem vist la meitat de sensors! Passem a vore doncs el tercer.\n",
    "\n",
    "Abans de continuar, desconnecteu el robot:"
   ]
  },
  {
   "cell_type": "code",
   "execution_count": null,
   "metadata": {
    "collapsed": false
   },
   "outputs": [],
   "source": [
    "from functions import disconnect, next_notebook\n",
    "disconnect()\n",
    "next_notebook('light')"
   ]
  }
 ],
 "metadata": {
  "anaconda-cloud": {},
  "kernelspec": {
   "display_name": "Python [conda env:py34]",
   "language": "python",
   "name": "conda-env-py34-py"
  },
  "language_info": {
   "codemirror_mode": {
    "name": "ipython",
    "version": 3
   },
   "file_extension": ".py",
   "mimetype": "text/x-python",
   "name": "python",
   "nbconvert_exporter": "python",
   "pygments_lexer": "ipython3",
   "version": "3.4.2"
  }
 },
 "nbformat": 4,
 "nbformat_minor": 2
}
