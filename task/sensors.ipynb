{
 "metadata": {
  "anaconda-cloud": {},
  "kernelspec": {
   "display_name": "Python [conda env:py34]",
   "language": "python",
   "name": "conda-env-py34-py"
  },
  "language_info": {
   "codemirror_mode": {
    "name": "ipython",
    "version": 3
   },
   "file_extension": ".py",
   "mimetype": "text/x-python",
   "name": "python",
   "nbconvert_exporter": "python",
   "pygments_lexer": "ipython3",
   "version": "3.4.2"
  },
  "name": ""
 },
 "nbformat": 3,
 "nbformat_minor": 0,
 "worksheets": [
  {
   "cells": [
    {
     "cell_type": "markdown",
     "metadata": {},
     "source": [
      "# Sensors\n",
      "\n",
      "Hi ha quatre sensors diferents montats i connectats al robot:\n",
      "\n",
      "[<img src=\"img/sensors.jpg\" width=400>](http://www.legoengineering.com/nxt-sensors/)\n",
      "\n",
      "Els de la figura corresponen al model NXT, per\u00f2 els de l'EV3 s\u00f3n equivalents.\n",
      "\n",
      "Anem a comprovar el funcionament de cadascun d'ells.\n",
      "\n",
      "Primer, necessitem algunes funcions, i com sempre, connectar-nos al robot."
     ]
    },
    {
     "cell_type": "code",
     "collapsed": false,
     "input": [
      "from functions import connect, touch, light, sound, ultrasonic, disconnect\n",
      "\n",
      "connect()"
     ],
     "language": "python",
     "metadata": {},
     "outputs": [],
     "prompt_number": null
    },
    {
     "cell_type": "markdown",
     "metadata": {},
     "source": [
      "## Sensor de tacte\n",
      "\n",
      "\u00c9s un polsador, que segons estiga polsat o no, donar\u00e0 un valor vertader (`True`) o fals (`False`). Per a comprovar-ho, proveu a executar v\u00e0ries vegades la funci\u00f3 seg\u00fcent, amb el sensor activat o sense activar-lo."
     ]
    },
    {
     "cell_type": "code",
     "collapsed": false,
     "input": [
      "touch() # Per a executar repetidament, useu Ctrl + Enter"
     ],
     "language": "python",
     "metadata": {},
     "outputs": [],
     "prompt_number": null
    },
    {
     "cell_type": "markdown",
     "metadata": {},
     "source": [
      "## Sensor de llum\n",
      "\n",
      "Est\u00e0 format per un transistor que emet llum, i un diode que detecta la llum reflectida per la superf\u00edcie. D\u00f3na un valor num\u00e8ric, m\u00e9s alt com m\u00e9s quantitat de llum, \u00e9s a dir, valors baixos (pr\u00f2xims a 0) per a les superf\u00edcies fosques, i valor alts (pr\u00f2xims a 100) per a les clares."
     ]
    },
    {
     "cell_type": "code",
     "collapsed": false,
     "input": [
      "light() # Per a executar repetidament, useu Ctrl + Enter"
     ],
     "language": "python",
     "metadata": {},
     "outputs": [],
     "prompt_number": null
    },
    {
     "cell_type": "markdown",
     "metadata": {
      "collapsed": false
     },
     "source": [
      "## Sensor de so (micr\u00f2fon)\n",
      "\n",
      "Permet mesurar el so ambient en decibelis, tornant un valor en percentatge, m\u00e9s alt com m\u00e9s fort \u00e9s el so. Per exemple:\n",
      "\n",
      "* 4-5% \u00e9s com una sala d'estar en silenci\n",
      "* 5-10% seria alg\u00fa parlant a certa dist\u00e0ncia\n",
      "* 10-30% \u00e9s una conversa normal a prop del sensor o m\u00fasica reprodu\u00efda en un nivell normal\n",
      "* 30-100% s\u00f3n gent cridant o la m\u00fasica que s'est\u00e0 reproduint a un volum alt"
     ]
    },
    {
     "cell_type": "code",
     "collapsed": false,
     "input": [
      "sound() # Per a executar repetidament, useu Ctrl + Enter"
     ],
     "language": "python",
     "metadata": {},
     "outputs": [],
     "prompt_number": null
    },
    {
     "cell_type": "markdown",
     "metadata": {},
     "source": [
      "## Sensor ultras\u00f2nic\n",
      "\n",
      "Aquest sensor funciona emetent ultrasons, i medint el temps que tarda l'eco del senyal en tornar al sensor. D'eixa manera permet calcular la dist\u00e0ncia (en cm) a un obstacle que estiga al davant. \u00c9s el mateix [principi que usen els ratpenats](https://ca.wikipedia.org/wiki/Ratpenat#Ecolocalitzaci.C3.B3)."
     ]
    },
    {
     "cell_type": "code",
     "collapsed": false,
     "input": [
      "ultrasonic() # Per a executar repetidament, useu Ctrl + Enter"
     ],
     "language": "python",
     "metadata": {},
     "outputs": [],
     "prompt_number": null
    },
    {
     "cell_type": "markdown",
     "metadata": {},
     "source": [
      "<img src=\"img/interrupt.png\" align=\"right\">\n",
      "## Comprovaci\u00f3 dels sensors\n",
      "\n",
      "Per a finalitzar, la seg\u00fcent funci\u00f3 mostra repetidament en pantalla els valors de tots els sensors, per a comprovar f\u00e0cilment el funcionament correcte de tots ells. Per a parar l'execuci\u00f3, has de pr\u00e9mer el bot\u00f3 `interrupt kernel` del panell de dalt."
     ]
    },
    {
     "cell_type": "code",
     "collapsed": false,
     "input": [
      "from functions import test_sensors\n",
      "\n",
      "test_sensors()"
     ],
     "language": "python",
     "metadata": {},
     "outputs": [],
     "prompt_number": null
    },
    {
     "cell_type": "markdown",
     "metadata": {},
     "source": [
      "\u00c9s el moment de fer nous programes amb els sensors, per\u00f2 abans cal desconnectar el robot d'esta p\u00e0gina."
     ]
    },
    {
     "cell_type": "code",
     "collapsed": false,
     "input": [
      "disconnect()"
     ],
     "language": "python",
     "metadata": {},
     "outputs": [],
     "prompt_number": null
    },
    {
     "cell_type": "markdown",
     "metadata": {
      "collapsed": true
     },
     "source": [
      "Ara ja podeu passar al primer exercici amb sensors:\n",
      "\n",
      "### [>>> Tacte](./touch.ipynb)"
     ]
    }
   ],
   "metadata": {}
  }
 ]
}
