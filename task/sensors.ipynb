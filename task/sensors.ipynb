{
 "cells": [
  {
   "cell_type": "markdown",
   "metadata": {},
   "source": [
    "# Sensors\n",
    "\n",
    "Hi ha quatre sensors diferents montats i connectats al robot:\n",
    "\n",
    "[<img src=\"img/sensors.jpg\" width=400>](http://www.legoengineering.com/nxt-sensors/)\n",
    "\n",
    "Els de la figura corresponen al model NXT, però els de l'EV3 són equivalents.\n",
    "\n",
    "Anem a comprovar el funcionament de cadascun d'ells.\n",
    "\n",
    "Primer, necessitem algunes funcions, i com sempre, connectar-nos al robot."
   ]
  },
  {
   "cell_type": "code",
   "execution_count": null,
   "metadata": {
    "collapsed": false
   },
   "outputs": [],
   "source": [
    "from functions import connect, touch, light, sound, ultrasonic, disconnect\n",
    "\n",
    "connect()"
   ]
  },
  {
   "cell_type": "markdown",
   "metadata": {},
   "source": [
    "## Sensor de tacte\n",
    "\n",
    "És un polsador, que segons estiga polsat o no, donarà un valor vertader (`True`) o fals (`False`). Per a comprovar-ho, proveu a executar vàries vegades la funció següent, amb el sensor activat o sense activar-lo."
   ]
  },
  {
   "cell_type": "code",
   "execution_count": null,
   "metadata": {
    "collapsed": false
   },
   "outputs": [],
   "source": [
    "touch() # Per a executar repetidament, useu Ctrl + Enter"
   ]
  },
  {
   "cell_type": "markdown",
   "metadata": {},
   "source": [
    "## Sensor de llum\n",
    "\n",
    "Està format per un transistor que emet llum, i un diode que detecta la llum reflectida per la superfície. Dóna un valor numèric, més alt com més quantitat de llum, és a dir, valors baixos (pròxims a 0) per a les superfícies fosques, i valor alts (pròxims a 100) per a les clares."
   ]
  },
  {
   "cell_type": "code",
   "execution_count": null,
   "metadata": {
    "collapsed": false
   },
   "outputs": [],
   "source": [
    "light() # Per a executar repetidament, useu Ctrl + Enter"
   ]
  },
  {
   "cell_type": "markdown",
   "metadata": {
    "collapsed": false
   },
   "source": [
    "## Sensor de so (micròfon)\n",
    "\n",
    "Permet mesurar el so ambient en decibelis, tornant un valor en percentatge, més alt com més fort és el so. Per exemple:\n",
    "\n",
    "* 4-5% és com una sala d'estar en silenci\n",
    "* 5-10% seria algú parlant a certa distància\n",
    "* 10-30% és una conversa normal a prop del sensor o música reproduïda en un nivell normal\n",
    "* 30-100% són gent cridant o la música que s'està reproduint a un volum alt"
   ]
  },
  {
   "cell_type": "code",
   "execution_count": null,
   "metadata": {
    "collapsed": false
   },
   "outputs": [],
   "source": [
    "sound() # Per a executar repetidament, useu Ctrl + Enter"
   ]
  },
  {
   "cell_type": "markdown",
   "metadata": {},
   "source": [
    "## Sensor ultrasònic\n",
    "\n",
    "Aquest sensor funciona emetent ultrasons, i medint el temps que tarda l'eco del senyal en tornar al sensor. D'eixa manera permet calcular la distància (en cm) a un obstacle que estiga al davant. És el mateix [principi que usen els ratpenats](https://ca.wikipedia.org/wiki/Ratpenat#Ecolocalitzaci.C3.B3)."
   ]
  },
  {
   "cell_type": "code",
   "execution_count": null,
   "metadata": {
    "collapsed": false
   },
   "outputs": [],
   "source": [
    "ultrasonic() # Per a executar repetidament, useu Ctrl + Enter"
   ]
  },
  {
   "cell_type": "markdown",
   "metadata": {},
   "source": [
    "<img src=\"img/interrupt.png\" align=\"right\">\n",
    "## Comprovació dels sensors\n",
    "\n",
    "Per a finalitzar, la següent funció mostra repetidament en pantalla els valors de tots els sensors, per a comprovar fàcilment el funcionament correcte de tots ells. Per a parar l'execució, has de prémer el botó `interrupt kernel` del panell de dalt."
   ]
  },
  {
   "cell_type": "code",
   "execution_count": null,
   "metadata": {
    "collapsed": false
   },
   "outputs": [],
   "source": [
    "from functions import test_sensors\n",
    "\n",
    "test_sensors()"
   ]
  },
  {
   "cell_type": "markdown",
   "metadata": {},
   "source": [
    "És el moment de fer nous programes amb els sensors, però abans cal desconnectar el robot d'esta pàgina."
   ]
  },
  {
   "cell_type": "code",
   "execution_count": null,
   "metadata": {
    "collapsed": false
   },
   "outputs": [],
   "source": [
    "disconnect()"
   ]
  },
  {
   "cell_type": "markdown",
   "metadata": {
    "collapsed": true
   },
   "source": [
    "Ara ja podeu passar al primer exercici amb sensors:\n",
    "\n",
    "### [>>> Tacte](./touch.ipynb)"
   ]
  }
 ],
 "metadata": {
  "anaconda-cloud": {},
  "kernelspec": {
   "display_name": "Python [conda env:py34]",
   "language": "python",
   "name": "conda-env-py34-py"
  },
  "language_info": {
   "codemirror_mode": {
    "name": "ipython",
    "version": 3
   },
   "file_extension": ".py",
   "mimetype": "text/x-python",
   "name": "python",
   "nbconvert_exporter": "python",
   "pygments_lexer": "ipython3",
   "version": "3.4.2"
  }
 },
 "nbformat": 4,
 "nbformat_minor": 2
}
