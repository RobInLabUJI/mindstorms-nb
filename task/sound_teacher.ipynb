{
 "metadata": {
  "anaconda-cloud": {},
  "kernelspec": {
   "display_name": "Python [conda env:py34]",
   "language": "python",
   "name": "conda-env-py34-py"
  },
  "language_info": {
   "codemirror_mode": {
    "name": "ipython",
    "version": 3
   },
   "file_extension": ".py",
   "mimetype": "text/x-python",
   "name": "python",
   "nbconvert_exporter": "python",
   "pygments_lexer": "ipython3",
   "version": "3.4.2"
  },
  "name": ""
 },
 "nbformat": 3,
 "nbformat_minor": 0,
 "worksheets": [
  {
   "cells": [
    {
     "cell_type": "markdown",
     "metadata": {},
     "source": [
      "[<img src=\"http://cdn.shopify.com/s/files/1/0059/3932/products/Aldebaran_Robotics_Nao_Humanoid_Robot_07_d2010cf6-cff3-468b-82c4-e2c7cfa6df9b.jpg?v=1439318386\" align=\"right\" width=200>](https://www.ald.softbankrobotics.com/en/cool-robots/nao)\n",
      "# Sensor de so (micr\u00f2fon)\n",
      "\n",
      "El micr\u00f2fon del robot detecta el soroll ambiental. No sap recon\u00e8ixer paraules, per\u00f2 si pot reaccionar a una palmada, o un crit. Altres robots m\u00e9s sofisticats com el de la imatge s\u00ed que poden parlar i recon\u00e8ixer el llenguatge.\n",
      "\n",
      "En aquesta p\u00e0gina analitzarem els valors del sensor, i l'usarem per a controlar el robot.\n",
      "\n",
      "Primer que res, ens connectem."
     ]
    },
    {
     "cell_type": "code",
     "collapsed": false,
     "input": [
      "from functions import connect, sound, forward, stop\n",
      "\n",
      "connect()"
     ],
     "language": "python",
     "metadata": {},
     "outputs": [],
     "prompt_number": null
    },
    {
     "cell_type": "markdown",
     "metadata": {},
     "source": [
      "## La senyal del so\n",
      "\n",
      "Si recordeu un exemple anterior, la funci\u00f3 `sound` ens retorna un valor entre 0 i 100, segons la intensitat del so. Anem a provar-la de nou, per\u00f2 representant el seu valor en una gr\u00e0fica.\n",
      "\n",
      "Per a aix\u00f2, el que farem \u00e9s recollir dades: llegirem els valors de la funci\u00f3 v\u00e0ries vegades i els guardarem en la mem\u00f2ria de l'ordinador, per a despr\u00e9s representar gr\u00e0ficament els valors.\n",
      "\n",
      "Per a guardar dades en la mem\u00f2ria, els llenguatges de programaci\u00f3 fan servir [**variables**](https://es.wikipedia.org/wiki/Variable_%28programaci%C3%B3n%29).\n",
      "\n",
      "En el seg\u00fcent exemple, usem una variable anomenada `data`, que contindr\u00e0 la llista de valors que llegim del sensor. Inicialment estar\u00e0 buida, i dins del bucle anirem afegint valors."
     ]
    },
    {
     "cell_type": "code",
     "collapsed": false,
     "input": [
      "data = []                 # executeu este codi mentre parleu al micr\u00f2fon\n",
      "for i in range(200):\n",
      "    data.append(sound())"
     ],
     "language": "python",
     "metadata": {},
     "outputs": [],
     "prompt_number": null
    },
    {
     "cell_type": "markdown",
     "metadata": {},
     "source": [
      "Ara representarem gr\u00e0ficament els valors llegits."
     ]
    },
    {
     "cell_type": "code",
     "collapsed": false,
     "input": [
      "from functions import plot\n",
      "plot(data)"
     ],
     "language": "python",
     "metadata": {},
     "outputs": [],
     "prompt_number": null
    },
    {
     "cell_type": "markdown",
     "metadata": {
      "collapsed": true
     },
     "source": [
      "Normalment voreu valors que pugen i baixen, entre 0 i 100, segons parleu menys o m\u00e9s fort. Podeu provar tamb\u00e9 a donar palmades.\n",
      "\n",
      "Aleshores, per a controlar el robot, podem fer que reaccione quan el valor del so siga m\u00e9s alt d'un determinat llindar (*umbral* en castell\u00e0)."
     ]
    },
    {
     "cell_type": "markdown",
     "metadata": {},
     "source": [
      "## Control a dist\u00e0ncia per so\n",
      "\n",
      "Feu un programa per a que el robot vaja recte mentre no li digueu que pare, \u00e9s a dir, mentre no detecte un so alt."
     ]
    },
    {
     "cell_type": "code",
     "collapsed": false,
     "input": [
      "while sound()<50:\n",
      "    forward()\n",
      "stop() "
     ],
     "language": "python",
     "metadata": {},
     "outputs": [],
     "prompt_number": null
    },
    {
     "cell_type": "markdown",
     "metadata": {},
     "source": [
      "## Navegaci\u00f3 *controlada*\n",
      "\n",
      "Modifiqueu el programa de navegaci\u00f3, de manera que, en lloc de girar quan el robot detecta un contacte, ho fa\u00e7a quan detecta un so, per exemple una palmada."
     ]
    },
    {
     "cell_type": "code",
     "collapsed": false,
     "input": [
      "from functions import backward, left, right\n",
      "from time import sleep\n",
      "from random import random\n",
      "\n",
      "try:\n",
      "    while True:\n",
      "        while sound()<50:\n",
      "            forward()\n",
      "        backward()\n",
      "        sleep(1)\n",
      "        if random() > 0.5:\n",
      "            left()\n",
      "        else:\n",
      "            right()\n",
      "        sleep(1)\n",
      "except KeyboardInterrupt:\n",
      "    stop()"
     ],
     "language": "python",
     "metadata": {},
     "outputs": [],
     "prompt_number": null
    },
    {
     "cell_type": "markdown",
     "metadata": {},
     "source": [
      "### Usar els dos sensors al mateix temps\n",
      "\n",
      "En lloc de substiuir la condici\u00f3 de contacte per la de so, tamb\u00e9 podem *afegir* eixa segona condici\u00f3 a la primera. Els llenguatges de programaci\u00f3 poden fer **operacions l\u00f2giques** per a combinar condicions. No \u00e9s tan complicat com pareix, per exemple, les dos condicions s'escriurien aix\u00ed:\n",
      "\n",
      "    mentre el so siga menor que 50 i no hi haja contacte\n",
      "    \n",
      "Per a programar-ho en Python, nom\u00e9s cal saber que \"i\" en angl\u00e8s s'escriu \"and\" ;-)"
     ]
    },
    {
     "cell_type": "code",
     "collapsed": false,
     "input": [
      "from functions import backward, left, right, touch\n",
      "from time import sleep\n",
      "from random import random\n",
      "\n",
      "try:\n",
      "    while True:\n",
      "        while sound()<50 and not touch():\n",
      "            forward()\n",
      "        backward()\n",
      "        sleep(1)\n",
      "        if random() > 0.5:\n",
      "            left()\n",
      "        else:\n",
      "            right()\n",
      "        sleep(1)\n",
      "except KeyboardInterrupt:\n",
      "    stop()"
     ],
     "language": "python",
     "metadata": {},
     "outputs": [],
     "prompt_number": null
    },
    {
     "cell_type": "markdown",
     "metadata": {},
     "source": [
      "### Indicar la direcci\u00f3\n",
      "\n",
      "Controlar el robot, per a que despr\u00e9s gire a l'atzar, no queda massa b\u00e9. Seria millor que pogu\u00e9rem controlar la direcci\u00f3 del gir amb el so. Recordeu que el robot no reconeix els sons, nom\u00e9s els canvis de volum.\n",
      "\n",
      "Com podr\u00edeu indicar-li la direcci\u00f3 de gir? A la millor, en compte d'un n\u00famero a l'atzar, podr\u00edeu comprovar el valor del sensor de so un segon cop. Aleshores, amb una sola palmada, el robot giraria cap a un costat, i amb dos, cap a l'altre."
     ]
    },
    {
     "cell_type": "code",
     "collapsed": false,
     "input": [
      "from functions import backward, left, right, touch\n",
      "from time import sleep\n",
      "from random import random\n",
      "\n",
      "try:\n",
      "    while True:\n",
      "        while sound()<50 and not touch():\n",
      "            forward()\n",
      "        backward()\n",
      "        sleep(1)\n",
      "        if sound() < 50:\n",
      "            left()\n",
      "        else:\n",
      "            right()\n",
      "        sleep(1)\n",
      "except KeyboardInterrupt:\n",
      "    stop()"
     ],
     "language": "python",
     "metadata": {},
     "outputs": [],
     "prompt_number": null
    },
    {
     "cell_type": "markdown",
     "metadata": {},
     "source": [
      "### I el gran repte\n",
      "\n",
      "Podeu fer una versi\u00f3 completa amb tot?\n",
      "\n",
      "* el robot va recte mentre no hi haja contacte ni detecte cap so alt\n",
      "* si detecta un contacte, va cap arrere i gira a l'atzar a esquerra o dreta\n",
      "* per\u00f2 si el que ha detectat \u00e9s el so, va cap arrere, i si detecta un segon so, gira a esquerra i si no a dreta\n",
      "\n",
      "Complicat? No tant, per\u00f2 cal tindre les idees clares!"
     ]
    },
    {
     "cell_type": "code",
     "collapsed": false,
     "input": [
      "from functions import backward, left, right, touch\n",
      "from time import sleep\n",
      "from random import random\n",
      "\n",
      "try:\n",
      "    while True:\n",
      "        while sound()<50 and not touch():\n",
      "            forward()\n",
      "        if touch():\n",
      "            backward()\n",
      "            sleep(1)\n",
      "            if random() < 0.5:\n",
      "                left()\n",
      "            else:\n",
      "                right()\n",
      "            sleep(1)\n",
      "        else:\n",
      "            backward()\n",
      "            sleep(1)\n",
      "            if sound() < 50:\n",
      "                left()\n",
      "            else:\n",
      "                right()\n",
      "            sleep(1)\n",
      "except KeyboardInterrupt:\n",
      "    stop()"
     ],
     "language": "python",
     "metadata": {},
     "outputs": [],
     "prompt_number": null
    },
    {
     "cell_type": "markdown",
     "metadata": {
      "collapsed": false
     },
     "source": [
      "## Recapitulem\n",
      "\n",
      "Abans de continuar, desconnecteu el robot:"
     ]
    },
    {
     "cell_type": "code",
     "collapsed": false,
     "input": [
      "from functions import disconnect\n",
      "disconnect()"
     ],
     "language": "python",
     "metadata": {},
     "outputs": [],
     "prompt_number": null
    },
    {
     "cell_type": "markdown",
     "metadata": {
      "collapsed": true
     },
     "source": [
      "Si heu arribat fins ac\u00ed fent totes les variants, enhorabona! Comenceu a controlar de deb\u00f3 la programaci\u00f3. Si no, no patiu, a\u00e7\u00f2 no s'apren en dos hores!\n",
      "\n",
      "En aquesta p\u00e0gina hem donat una ullada a les variables i a les operacions l\u00f2giques, i hem anat anidant cada cop m\u00e9s bucles i condicionals. Aix\u00ed \u00e9s la programaci\u00f3!\n",
      "\n",
      "I nom\u00e9s hem vist la meitat de sensors! Passem a vore doncs el tercer.\n",
      "\n",
      "### [>>> Sensor de llum](./light.ipynb)"
     ]
    }
   ],
   "metadata": {}
  }
 ]
}
