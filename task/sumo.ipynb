{
 "metadata": {
  "anaconda-cloud": {},
  "kernelspec": {
   "display_name": "Python [conda env:py34]",
   "language": "python",
   "name": "conda-env-py34-py"
  },
  "language_info": {
   "codemirror_mode": {
    "name": "ipython",
    "version": 3
   },
   "file_extension": ".py",
   "mimetype": "text/x-python",
   "name": "python",
   "nbconvert_exporter": "python",
   "pygments_lexer": "ipython3",
   "version": "3.4.2"
  },
  "name": ""
 },
 "nbformat": 3,
 "nbformat_minor": 0,
 "worksheets": [
  {
   "cells": [
    {
     "cell_type": "markdown",
     "metadata": {
      "collapsed": false
     },
     "source": [
      "# Combat de sumo\n",
      "\n",
      "[<img src=\"img/lego_sumo.jpg\" align=\"right\" width=200>](https://www.youtube.com/watch?v=3tguWcKTXQI)\n",
      "Els combats de sumo s\u00f3n una competici\u00f3 molt popular entre els robots m\u00f2bils. Dos robots han de lluitar per traure al contrincant del tatami.\n",
      "\n",
      "En esta p\u00e0gina fareu un programa per a que el robot de Lego puga lluitar contra un*sparring*, una caixa que far\u00e0 de contrincant, a la qu\u00e8 ha de traure del tatami.\n",
      "\n",
      "Com sempre, connectem el robot."
     ]
    },
    {
     "cell_type": "code",
     "collapsed": false,
     "input": [
      "from functions import connect\n",
      "connect()  "
     ],
     "language": "python",
     "metadata": {},
     "outputs": [],
     "prompt_number": null
    },
    {
     "cell_type": "markdown",
     "metadata": {},
     "source": [
      "## Una possible estrat\u00e8gia\n",
      "\n",
      "S'admeten idees alternatives ;-)\n",
      "\n",
      "1. Localitzar la caixa: el robot girar sobre ell mateix fins que detecta un objecte a dist\u00e0ncia\n",
      "2. Atacar: el robot avan\u00e7a en la direcci\u00f3 de l'objecte, fins que detecta la l\u00ednia del tatami\n",
      "3. Recuperar: el robot retrocedeix, i torna a intentar-ho\n"
     ]
    },
    {
     "cell_type": "code",
     "collapsed": true,
     "input": [],
     "language": "python",
     "metadata": {},
     "outputs": [],
     "prompt_number": null
    }
   ],
   "metadata": {}
  }
 ]
}
