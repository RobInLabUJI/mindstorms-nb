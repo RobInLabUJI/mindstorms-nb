{
 "cells": [
  {
   "cell_type": "markdown",
   "metadata": {},
   "source": [
    "# Sensor de llum\n",
    "\n",
    "<img src=\"http://www.nxtprograms.com/line_follower/DCP_2945.JPG\" align=\"right\">\n",
    "Aquest sensor té dos parts:\n",
    "\n",
    "* un diode emissor de llum roja\n",
    "* un transistor detector de llum, que dóna un valor proporcional a la intensitat de llum reflectida per la superfície\n",
    "\n",
    "Utilitzarem el sensor per a detectar una línia negra, i controlar el robot per a seguir la trajectòria. \n",
    "\n",
    "En primer lloc, connectem el robot."
   ]
  },
  {
   "cell_type": "code",
   "execution_count": null,
   "metadata": {
    "collapsed": false
   },
   "outputs": [],
   "source": [
    "from functions import connect, light, forward, stop\n",
    "\n",
    "connect()"
   ]
  },
  {
   "cell_type": "markdown",
   "metadata": {},
   "source": [
    "## Gràfica del sensor\n",
    "\n",
    "Per a analitzar els valors del sensor, farem una gràfica, però en aquest mentre el robot es mou.\n",
    "\n",
    "Heu de col·locar el robot perpendicularment a la línia negra, de manera que el codi següent farà avançar el robot uns segons per a travessar-la, llegint els valos abans de la línia, sobre ella, i després de la línia."
   ]
  },
  {
   "cell_type": "code",
   "execution_count": null,
   "metadata": {
    "collapsed": false
   },
   "outputs": [],
   "source": [
    "forward()\n",
    "data = []\n",
    "for i in range(25):\n",
    "    data.append(light())\n",
    "stop()"
   ]
  },
  {
   "cell_type": "markdown",
   "metadata": {},
   "source": [
    "A continuació representeu la gràfica. Hauríeu d'obtindre una mena de \"V\" perquè els valors alts corresponen a la superfície blanca (que reflexa més llum) i els baixos a la negra (que en reflexa menys)."
   ]
  },
  {
   "cell_type": "code",
   "execution_count": null,
   "metadata": {
    "collapsed": false
   },
   "outputs": [],
   "source": [
    "from functions import plot\n",
    "plot(data)"
   ]
  },
  {
   "cell_type": "markdown",
   "metadata": {},
   "source": [
    "Heu de seleccionar un valor intermedi per a distingir entre blanc i negre. Serà el **llindar** que usareu: \n",
    "\n",
    "* si la lectura està per damunt, el sensor està detectant blanc\n",
    "* si està per baix, negre.\n",
    "\n",
    "## Seguiment de línia, versió 1.0\n",
    "\n",
    "<img src=\"http://nxtprograms.com/NXT2/line_follower/DSC_3213.JPG\" width=240 align=\"right\">\n",
    "\n",
    "Per a seguir la línia, la idea és senzilla:\n",
    "\n",
    "* el robot va pel costat de la línia, per la part de dins del circuit tancat\n",
    "* si el sensor detecta blanc, el robot va recte \n",
    "* si detecta negre, el robot gira per rectificar la seua trajectòria \n",
    "\n",
    "Depenent del sentit en que està recorrent el circuit, haurà de rectificar girant a l'esquerra o a la dreta."
   ]
  },
  {
   "cell_type": "code",
   "execution_count": null,
   "metadata": {
    "collapsed": true
   },
   "outputs": [],
   "source": [
    "from functions import left, right"
   ]
  },
  {
   "cell_type": "code",
   "execution_count": null,
   "metadata": {
    "collapsed": true
   },
   "outputs": [],
   "source": [
    "try:\n",
    "    while True:\n",
    "        if light()>40:\n",
    "            forward()\n",
    "        else:\n",
    "            right()\n",
    "except KeyboardInterrupt:\n",
    "    stop() "
   ]
  },
  {
   "cell_type": "markdown",
   "metadata": {},
   "source": [
    "## Versió 2.0\n",
    "\n",
    "Si el robot se n'ix per la curva, cal fer un gir més pronunciat. Les funcions que hem utilitzat fins ara giren una roda mentre l'altra està parada. Es pot girar més si, en lloc d'estar parada, l'altra roda gira en sentit contrari. Per a fer-ho, useu les següents funcions:"
   ]
  },
  {
   "cell_type": "code",
   "execution_count": null,
   "metadata": {
    "collapsed": false
   },
   "outputs": [],
   "source": [
    "from functions import left_sharp, right_sharp"
   ]
  },
  {
   "cell_type": "code",
   "execution_count": null,
   "metadata": {
    "collapsed": true
   },
   "outputs": [],
   "source": [
    "try:\n",
    "    while True:\n",
    "        if light()>40:\n",
    "            forward()\n",
    "        else:\n",
    "            right_sharp()\n",
    "except KeyboardInterrupt:\n",
    "    stop() "
   ]
  },
  {
   "cell_type": "markdown",
   "metadata": {},
   "source": [
    "## Versió 3.0\n",
    "\n",
    "En general, pot haver curves a esquerra i dreta. Aleshores, el mètode anterior no és suficient. Una solució seria usar dos sensors, un per cada costat de la línia, però només en tenim un per robot.\n",
    "\n",
    "Una altra solució és fer que el sensor vaja per la vora de la línia, de manera que la superfície serà meitat negra i meitat blanca. Si definim **dos llindars**, aleshores:\n",
    "\n",
    "* si el sensor està per baix dels dos llindars, és negre\n",
    "* si està per dalt dels dos, és blanc\n",
    "* si està enmig, és la vora de la línia\n",
    "\n",
    "El robot anirà recte quan vaja per la vora de la línia, i pot rectificar a esquerra en un cas, i a dreta en l'altre."
   ]
  },
  {
   "cell_type": "code",
   "execution_count": null,
   "metadata": {
    "collapsed": true
   },
   "outputs": [],
   "source": [
    "try:\n",
    "    while True:\n",
    "        if light()>85:\n",
    "            left_sharp(speed=10)\n",
    "        else:\n",
    "            if light()<15:\n",
    "                right_sharp(speed=10)\n",
    "            else:\n",
    "                forward(speed=50)\n",
    "except KeyboardInterrupt:\n",
    "    stop() "
   ]
  },
  {
   "cell_type": "markdown",
   "metadata": {},
   "source": [
    "## Versió 4.0\n",
    "\n",
    "Si el robot oscil·la massa, fins i tot pot travessar la línia i desorientar-se completament.\n",
    "\n",
    "La solució és disminuir la velocitat, indicant-ho a les funcions de moviment, per exemple:\n",
    "\n",
    "```python\n",
    "forward(speed=65)\n",
    "```\n",
    "\n",
    "El valor per defecte és 100, el màxim, i el mínim és 0."
   ]
  },
  {
   "cell_type": "code",
   "execution_count": null,
   "metadata": {
    "collapsed": true
   },
   "outputs": [],
   "source": [
    "try:\n",
    "    while True:\n",
    "        if light()>40:\n",
    "            left_sharp(speed=50)\n",
    "        else:\n",
    "            if light()<15:\n",
    "                right_sharp(speed=50)\n",
    "            else:\n",
    "                forward(speed=50)\n",
    "except KeyboardInterrupt:\n",
    "    stop() "
   ]
  },
  {
   "cell_type": "markdown",
   "metadata": {
    "collapsed": false
   },
   "source": [
    "## Recapitulem\n",
    "\n",
    "Abans de continuar, desconnecteu el robot:"
   ]
  },
  {
   "cell_type": "code",
   "execution_count": null,
   "metadata": {
    "collapsed": false
   },
   "outputs": [],
   "source": [
    "from functions import disconnect\n",
    "disconnect()"
   ]
  },
  {
   "cell_type": "markdown",
   "metadata": {},
   "source": [
    "En aquesta pàgina no hem vist conceptes nous, però hem aplicat el que ja sabíem al problema de seguir la línia."
   ]
  },
  {
   "cell_type": "markdown",
   "metadata": {
    "collapsed": true
   },
   "source": [
    "\n",
    "\n",
    "Passem a vore el darrer sensor.\n",
    "\n",
    "### [>>> Sensor ultrasònic](./ultrasonic.ipynb)"
   ]
  }
 ],
 "metadata": {
  "anaconda-cloud": {},
  "kernelspec": {
   "display_name": "Python [conda env:py34]",
   "language": "python",
   "name": "conda-env-py34-py"
  },
  "language_info": {
   "codemirror_mode": {
    "name": "ipython",
    "version": 3
   },
   "file_extension": ".py",
   "mimetype": "text/x-python",
   "name": "python",
   "nbconvert_exporter": "python",
   "pygments_lexer": "ipython3",
   "version": "3.4.2"
  }
 },
 "nbformat": 4,
 "nbformat_minor": 2
}
