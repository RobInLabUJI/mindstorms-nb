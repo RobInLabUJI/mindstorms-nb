{
 "metadata": {
  "anaconda-cloud": {},
  "kernelspec": {
   "display_name": "Python [conda env:py34]",
   "language": "python",
   "name": "conda-env-py34-py"
  },
  "language_info": {
   "codemirror_mode": {
    "name": "ipython",
    "version": 3
   },
   "file_extension": ".py",
   "mimetype": "text/x-python",
   "name": "python",
   "nbconvert_exporter": "python",
   "pygments_lexer": "ipython3",
   "version": "3.4.2"
  },
  "name": ""
 },
 "nbformat": 3,
 "nbformat_minor": 0,
 "worksheets": [
  {
   "cells": [
    {
     "cell_type": "markdown",
     "metadata": {},
     "source": [
      "# Exercici de navegaci\u00f3\n",
      "\n",
      "[<span title=\"Roomba navigating around furniture\"><img src=\"img/roomba.jpg\" align=\"right\" width=200></span>](https://www.youtube.com/watch?v=g3Qk2y38LZQ)\n",
      "Un robot m\u00f2bil com el Roomba de la imatge ha d'evitar xocar amb els obstacles del seu entorn, i si arriba a col\u00b7lisionar, ha de reaccionar per a no fer, ni fer-se mal.\n",
      "\n",
      "Amb el sensor de tacte no podem evitar el xoc, per\u00f2 si detectar-lo un cop es produeix, i reaccionar.\n",
      "\n",
      "L'objectiu d'aquest exercici \u00e9s programar el seg\u00fcent comportament en el robot:\n",
      "\n",
      "* mentre no detecte res, el robot va cap avant\n",
      "* si el sensor detecta un xoc, el robot anir\u00e0 cap enrere i girar\u00e0\n",
      "\n",
      "Connecteu el robot:"
     ]
    },
    {
     "cell_type": "code",
     "collapsed": false,
     "input": [
      "from functions import connect, touch, forward, backward, left, right, stop, disconnect\n",
      "from time import sleep\n",
      "connect()"
     ],
     "language": "python",
     "metadata": {},
     "outputs": [],
     "prompt_number": null
    },
    {
     "cell_type": "markdown",
     "metadata": {},
     "source": [
      "## Versi\u00f3 1.0\n",
      "\n",
      "Utilitzeu el codi de l'exemple anterior del bucle `while`: nom\u00e9s heu d'afegir que, quan xoque, el robot vaja cap enrere, gire una mica (cap al vostre costat preferit), i pare."
     ]
    },
    {
     "cell_type": "code",
     "collapsed": false,
     "input": [
      "while not touch():\n",
      "    forward()\n",
      "backward()\n",
      "sleep(1)\n",
      "left()\n",
      "sleep(1)\n",
      "stop()"
     ],
     "language": "python",
     "metadata": {},
     "outputs": [],
     "prompt_number": null
    },
    {
     "cell_type": "markdown",
     "metadata": {},
     "source": [
      "## Versi\u00f3 2.0\n",
      "\n",
      "Se suposa que la maniobra del robot li permet evitar l'obstacle, i per tant tornar a anar cap avant. Com ho podem programar?\n",
      "\n",
      "Cal **repetir** tot el bloc d'instruccions del comportament, incloent el bucle. Cap problema, els llenguatges de programaci\u00f3 permeten posar un bucle dins d'un altre, el que s'anomena **bucles anidats**.\n",
      "\n",
      "Utilitzeu un bucle `for` per a repetir 5 vegades el codi anterior."
     ]
    },
    {
     "cell_type": "code",
     "collapsed": false,
     "input": [
      "for ...:\n",
      "    while ...:\n",
      "        ...\n",
      "    ..."
     ],
     "language": "python",
     "metadata": {},
     "outputs": [],
     "prompt_number": null
    },
    {
     "cell_type": "code",
     "collapsed": false,
     "input": [
      "for i in range(5):\n",
      "    while not touch():\n",
      "        forward()\n",
      "    backward()\n",
      "    sleep(1)\n",
      "    left()\n",
      "    sleep(1)\n",
      "    stop()"
     ],
     "language": "python",
     "metadata": {},
     "outputs": [],
     "prompt_number": null
    },
    {
     "cell_type": "markdown",
     "metadata": {},
     "source": [
      "## Versi\u00f3 3.0\n",
      "\n",
      "<img src=\"img/interrupt.png\" align=\"right\">\n",
      "I si en lloc de repetir 10 o 20 vegades, volem que el robot continue fins que el parem nosaltres? Ho podem fer amb un **bucle infinit**, i indicarem al programa que pare amb el bot\u00f3 `interrupt kernel`.\n",
      "\n",
      "En Python, un bucle infinit s'escriu aix\u00ed:\n",
      "```python\n",
      "while True:\n",
      "    statement\n",
      "```\n",
      "\n",
      "Quan s'interromp el programa, s'abandona la instrucci\u00f3 que s'estava executant en eixe moment, i cal parar el robot. En Python, aquest proc\u00e9s s'anomena **excepci\u00f3** i es gestiona d'aquesta manera:\n",
      "```python\n",
      "try:\n",
      "    while True:\n",
      "        statement    # ac\u00ed anir\u00e0 el comportament\n",
      "except KeyboardInterrupt:\n",
      "    statement        # ac\u00ed pararem el robot\n",
      "```\n",
      "Utilitzeu un bucle infinit per a repetir el comportament del robot fins que el pareu."
     ]
    },
    {
     "cell_type": "code",
     "collapsed": false,
     "input": [
      "try:\n",
      "    while True:\n",
      "        while not touch():\n",
      "            forward()\n",
      "        backward()\n",
      "        sleep(1)\n",
      "        left()\n",
      "        sleep(1)\n",
      "except KeyboardInterrupt:\n",
      "    stop()"
     ],
     "language": "python",
     "metadata": {},
     "outputs": [],
     "prompt_number": null
    },
    {
     "cell_type": "markdown",
     "metadata": {},
     "source": [
      "## Versi\u00f3 4.0\n",
      "\n",
      "El comportament del robot, girant sempre cap al mateix costat, \u00e9s una mica previsible, no vos sembla?\n",
      "\n",
      "Anem a introduir un component d'atzar: en els llenguatges de programaci\u00f3, existeixen els [**generadors de n\u00fameros aleatoris**](https://en.wikipedia.org/wiki/Random_number_generation), que s\u00f3n com els *daus* dels ordinadors.\n",
      "\n",
      "Executeu el seg\u00fcent codi v\u00e0ries vegades amb `Ctrl+Enter` i comproveu els resultats."
     ]
    },
    {
     "cell_type": "code",
     "collapsed": false,
     "input": [
      "from random import random\n",
      "random()"
     ],
     "language": "python",
     "metadata": {},
     "outputs": [],
     "prompt_number": null
    },
    {
     "cell_type": "markdown",
     "metadata": {},
     "source": [
      "La funci\u00f3 `random` \u00e9s com llan\u00e7ar un dau, per\u00f2 en compte de donar una valor d'1 a 6, d\u00f3na un n\u00famero real entre 0 i 1.\n",
      "\n",
      "Aleshores, el robot pot utilitzar eixe valor per a decidir si gira a esquerra o dreta. Com? Doncs si el valor \u00e9s major que 0.5, gira a un costat, i si no, cap a l'altre. Aleshores, girar\u00e0 a l'atzar, amb una probabilitat del 50% per a cada costat.\n",
      "\n",
      "Incorporeu la decisi\u00f3 a l'atzar per a girar al codi de la versi\u00f3 anterior: "
     ]
    },
    {
     "cell_type": "code",
     "collapsed": false,
     "input": [
      "try:\n",
      "    while True:\n",
      "        while not touch():\n",
      "            forward()\n",
      "        backward()\n",
      "        sleep(1)\n",
      "        if random() > 0.5:\n",
      "            left()\n",
      "        else:\n",
      "            right()\n",
      "        sleep(1)\n",
      "except KeyboardInterrupt:\n",
      "    stop()"
     ],
     "language": "python",
     "metadata": {},
     "outputs": [],
     "prompt_number": null
    },
    {
     "cell_type": "markdown",
     "metadata": {
      "collapsed": false
     },
     "source": [
      "## Recapitulem\n",
      "\n",
      "Abans de continuar, desconnecteu el robot:"
     ]
    },
    {
     "cell_type": "code",
     "collapsed": false,
     "input": [
      "disconnect()"
     ],
     "language": "python",
     "metadata": {},
     "outputs": [],
     "prompt_number": null
    },
    {
     "cell_type": "markdown",
     "metadata": {
      "collapsed": true
     },
     "source": [
      "Tot el que hem vist en aquest exercici:\n",
      "\n",
      "* bucles anidats\n",
      "* excepcions\n",
      "* n\u00fameros aleatoris\n",
      "\n",
      "No est\u00e0 malament, quasi hem vist el temari d'un primer curs de programaci\u00f3, i aix\u00f2 nom\u00e9s amb un sensor!\n",
      "\n",
      "Passem a vore doncs el seg\u00fcent sensor.\n",
      "\n",
      "### [>>> Sensor de so](./sound.ipynb)"
     ]
    }
   ],
   "metadata": {}
  }
 ]
}
