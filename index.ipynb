{
 "cells": [
  {
   "cell_type": "markdown",
   "metadata": {},
   "source": [
    "# Mindstorms Notebooks\n",
    "\n",
    "Segons la Viquipèdia,\n",
    "\"[**Lego Mindstorms**](https://ca.wikipedia.org/wiki/Lego_Mindstorms) és una línia de jocs d'experimentació centrats en la robòtica, de la casa [Lego](https://ca.wikipedia.org/wiki/Lego). Però les seves possibilitats en fan una eina apreciable en entorns didàctics des de l'escola primària a la universitat\".\n",
    "\n",
    "En aquest taller aprendreu a programar un robot de Lego amb el [llenguatge de programació Python](https://ca.wikipedia.org/wiki/Python), un llenguatge de programació d'alt nivell i propòsit general molt utilitzat. Tingueu o no experiència en programar, no patiu: vos donarem exemples per a provar amb el robot, que poc a poc anirant fent-se més sofisticats.\n",
    "\n",
    "Programareu el robot per a moure's i reaccionar a l'entorn amb els seus sensors: detectar obstacles, seguir línies, ballar, fins i tot lluitar a sumo!\n",
    "\n",
    "Per començar, cliqueu a una de les imatges de baix, la que es correspon amb el controlador del vostre robot.\n",
    "\n",
    "### <p style=\"text-align: center;\"> Tria el model del teu robot:</p>\n",
    "\n",
    "<table>\n",
    "<tr>\n",
    "<td>[<img src=\"img/nxt.png\" width=300>](nxt/index.ipynb)</td>\n",
    "<td>[<img src=\"img/ev3.jpg\" width=300>](ev3/index.ipynb)</td>\n",
    "</tr>\n",
    "</table>\n"
   ]
  },
  {
   "cell_type": "markdown",
   "metadata": {},
   "source": [
    "### Try-a-Bot: an open source guide for robot programming\n",
    "\n",
    "Developed by:\n",
    "[![Robotic Intelligence Lab @ UJI](img/logo/robinlab.png \"Robotic Intelligence Lab @ UJI\")](http://robinlab.uji.es)\n",
    "\n",
    "Sponsored by:\n",
    "<table>\n",
    "<tr>\n",
    "<td style=\"border:1px solid #ffffff ;\">[<img src=\"img/logo/ras.png\">](http://www.ieee-ras.org)</td>\n",
    "<td style=\"border:1px solid #ffffff ;\">[![Cyberbotics](img/logo/cyberbotics.png \"Cyberbotics\")](http://www.cyberbotics.com)</td>\n",
    "<td style=\"border:1px solid #ffffff ;\">[![The Construct](img/logo/theconstruct.png \"The Construct\")](http://www.theconstructsim.com)</td>\n",
    "</tr>\n",
    "</table>\n",
    "\n",
    "Follow us:\n",
    "<table>\n",
    "<tr>\n",
    "<td style=\"border:1px solid #ffffff ;\">[![Facebook](img/logo/facebook.png \"Facebook\")](https://www.facebook.com/RobotProgrammingNetwork)</td>\n",
    "<td style=\"border:1px solid #ffffff ;\">[![YouTube](img/logo/youtube.png \"YouTube\")](https://www.youtube.com/user/robotprogrammingnet)</td>\n",
    "</tr>\n",
    "</table>\n"
   ]
  }
 ],
 "metadata": {
  "anaconda-cloud": {},
  "kernelspec": {
   "display_name": "Python 2",
   "language": "python",
   "name": "python2"
  },
  "language_info": {
   "codemirror_mode": {
    "name": "ipython",
    "version": 2
   },
   "file_extension": ".py",
   "mimetype": "text/x-python",
   "name": "python",
   "nbconvert_exporter": "python",
   "pygments_lexer": "ipython2",
   "version": "2.7.12"
  }
 },
 "nbformat": 4,
 "nbformat_minor": 2
}
