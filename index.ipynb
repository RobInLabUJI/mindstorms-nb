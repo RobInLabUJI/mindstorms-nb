{
 "metadata": {
  "anaconda-cloud": {},
  "kernelspec": {
   "display_name": "Python [conda env:py34]",
   "language": "python",
   "name": "conda-env-py34-py"
  },
  "language_info": {
   "codemirror_mode": {
    "name": "ipython",
    "version": 3
   },
   "file_extension": ".py",
   "mimetype": "text/x-python",
   "name": "python",
   "nbconvert_exporter": "python",
   "pygments_lexer": "ipython3",
   "version": "3.4.2"
  },
  "name": ""
 },
 "nbformat": 3,
 "nbformat_minor": 0,
 "worksheets": [
  {
   "cells": [
    {
     "cell_type": "markdown",
     "metadata": {},
     "source": [
      "# Mindstorms Notebooks\n",
      "\n",
      "Segons la Viquip\u00e8dia,\n",
      "\"[**Lego Mindstorms**](https://ca.wikipedia.org/wiki/Lego_Mindstorms) \u00e9s una l\u00ednia de jocs d'experimentaci\u00f3 centrats en la rob\u00f2tica, de la casa [Lego](https://ca.wikipedia.org/wiki/Lego). Per\u00f2 les seves possibilitats en fan una eina apreciable en entorns did\u00e0ctics des de l'escola prim\u00e0ria a la universitat\".\n",
      "\n",
      "En aquest taller aprendreu a programar un robot de Lego amb el [llenguatge de programaci\u00f3 Python](https://ca.wikipedia.org/wiki/Python), un llenguatge de programaci\u00f3 d'alt nivell i prop\u00f2sit general molt utilitzat. Tingueu o no experi\u00e8ncia en programar, no patiu: vos donarem exemples per a provar amb el robot, que poc a poc anirant fent-se m\u00e9s sofisticats.\n",
      "\n",
      "Programareu el robot per a moure's i reaccionar a l'entorn amb els seus sensors: detectar obstacles, seguir l\u00ednies, ballar, fins i tot lluitar a sumo!\n",
      "\n",
      "Per comen\u00e7ar, cliqueu a una de les imatges de baix, la que es correspon amb el controlador del vostre robot.\n",
      "\n",
      "### <p style=\"text-align: center;\"> Tria el model del teu robot:</p>\n",
      "\n",
      "<table>\n",
      "<tr>\n",
      "<td>[<img src=\"img/nxt.png\" width=300>](nxt/index.ipynb)</td>\n",
      "<td>[<img src=\"img/ev3.jpg\" width=300>](ev3/index.ipynb)</td>\n",
      "</tr>\n",
      "</table>\n"
     ]
    },
    {
     "cell_type": "markdown",
     "metadata": {},
     "source": [
      "### Try-a-Bot: an open source guide for robot programming\n",
      "\n",
      "Developed by:\n",
      "[![Robotic Intelligence Lab @ UJI](img/logo/robinlab.png \"Robotic Intelligence Lab @ UJI\")](http://robinlab.uji.es)\n",
      "\n",
      "Sponsored by:\n",
      "<table>\n",
      "<tr>\n",
      "<td style=\"border:1px solid #ffffff ;\">[![IEEE Robotics and Automation Society](img/logo/ras.png \"IEEE Robotics and Automation Society\")](http://www.ieee-ras.org)</td>\n",
      "<td style=\"border:1px solid #ffffff ;\">[![Cyberbotics](img/logo/cyberbotics.png \"Cyberbotics\")](http://www.cyberbotics.com)</td>\n",
      "<td style=\"border:1px solid #ffffff ;\">[![The Construct](img/logo/theconstruct.png \"The Construct\")](http://www.theconstructsim.com)</td>\n",
      "</tr>\n",
      "</table>\n",
      "\n",
      "Follow us:\n",
      "<table>\n",
      "<tr>\n",
      "<td style=\"border:1px solid #ffffff ;\">[![Facebook](img/logo/facebook.png \"Facebook\")](https://www.facebook.com/RobotProgrammingNetwork)</td>\n",
      "<td style=\"border:1px solid #ffffff ;\">[![YouTube](img/logo/youtube.png \"YouTube\")](https://www.youtube.com/user/robotprogrammingnet)</td>\n",
      "</tr>\n",
      "</table>\n"
     ]
    }
   ],
   "metadata": {}
  }
 ]
}
