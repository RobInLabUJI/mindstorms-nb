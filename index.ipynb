{
 "cells": [
  {
   "cell_type": "markdown",
   "metadata": {},
   "source": [
    "# Mindstorms Notebooks\n",
    "\n",
    "Segons la Viquipèdia,\n",
    "\"[**Lego Mindstorms**](https://ca.wikipedia.org/wiki/Lego_Mindstorms) és una línia de jocs d'experimentació centrats en la robòtica, de la casa [Lego](https://ca.wikipedia.org/wiki/Lego). Però les seves possibilitats en fan una eina apreciable en entorns didàctics des de l'escola primària a la universitat\".\n",
    "\n",
    "En aquest taller aprendreu a programar un robot de Lego amb el [llenguatge de programació Python](https://ca.wikipedia.org/wiki/Python), un llenguatge de programació d'alt nivell i propòsit general molt utilitzat. Tingueu o no experiència en programar, no patiu: vos donarem exemples per a provar amb el robot, que poc a poc anirant fent-se més sofisticats.\n",
    "\n",
    "Programareu el robot per a moure's i reaccionar a l'entorn amb els seus sensors: detectar obstacles, seguir línies, ballar, fins i tot lluitar a sumo!\n",
    "\n",
    "Per començar, cliqueu a una de les imatges de baix, la que es correspon amb el controlador del vostre robot.\n",
    "\n",
    "### <p style=\"text-align: center;\"> Tria el model del teu robot:</p>\n",
    "\n",
    "<table>\n",
    "<tr>\n",
    "<td><a href=\"nxt/index.ipynb\"><img src=\"img/nxt.png\" width=300></a></td>\n",
    "<td><a href=\"ev3/index.ipynb\"><img src=\"img/ev3.jpg\" width=300></a></td>\n",
    "</tr>\n",
    "</table>\n"
   ]
  },
  {
   "cell_type": "markdown",
   "metadata": {},
   "source": [
    "### Try-a-Bot: an open source guide for robot programming\n",
    "\n",
    "Developed by:\n",
    "[![Robotic Intelligence Lab @ UJI](img/logo/robinlab.png \"Robotic Intelligence Lab @ UJI\")](http://robinlab.uji.es)\n",
    "\n",
    "Sponsored by:\n",
    "<table>\n",
    "<tr>\n",
    "<td style=\"border:1px solid #ffffff ;\"><a href=\"http://www.ieee-ras.org\"><img src=\"img/logo/ras.png\"></a></td>\n",
    "<td style=\"border:1px solid #ffffff ;\"><a href=\"http://www.cyberbotics.com\"><img src=\"img/logo/cyberbotics.png\"></a></td>\n",
    "<td style=\"border:1px solid #ffffff ;\"><a href=\"http://www.theconstructsim.com\"><img src=\"img/logo/theconstruct.png\"></a></td>\n",
    "</tr>\n",
    "</table>\n",
    "\n",
    "Follow us:\n",
    "<table>\n",
    "<tr>\n",
    "<td style=\"border:1px solid #ffffff ;\"><a href=\"https://www.facebook.com/RobotProgrammingNetwork\"><img src=\"img/logo/facebook.png\"></a></td>\n",
    "<td style=\"border:1px solid #ffffff ;\"><a href=\"https://www.youtube.com/user/robotprogrammingnet\"><img src=\"img/logo/youtube.png\"></a></td>\n",
    "</tr>\n",
    "</table>\n"
   ]
  }
 ],
 "metadata": {
  "anaconda-cloud": {},
  "kernelspec": {
   "display_name": "Python 3",
   "language": "python",
   "name": "python3"
  },
  "language_info": {
   "codemirror_mode": {
    "name": "ipython",
    "version": 3
   },
   "file_extension": ".py",
   "mimetype": "text/x-python",
   "name": "python",
   "nbconvert_exporter": "python",
   "pygments_lexer": "ipython3",
   "version": "3.8.10"
  }
 },
 "nbformat": 4,
 "nbformat_minor": 2
}
