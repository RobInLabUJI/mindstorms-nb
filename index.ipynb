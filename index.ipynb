{
 "cells": [
  {
   "cell_type": "markdown",
   "metadata": {},
   "source": [
    "# Mindstorms Notebooks\n",
    "\n",
    "<p style=\"text-align: center;\"> Please choose your robot first: </p>\n",
    "\n",
    "<table>\n",
    "<tr>\n",
    "<td>[<img src=\"img/nxt.png\" width=300>](nxt/index.ipynb)</td>\n",
    "<td>[<img src=\"img/ev3.jpg\" width=300>](ev3/index.ipynb)</td>\n",
    "</tr>\n",
    "</table>\n"
   ]
  }
 ],
 "metadata": {
  "anaconda-cloud": {},
  "kernelspec": {
   "display_name": "Python [conda env:py34]",
   "language": "python",
   "name": "conda-env-py34-py"
  },
  "language_info": {
   "codemirror_mode": {
    "name": "ipython",
    "version": 3
   },
   "file_extension": ".py",
   "mimetype": "text/x-python",
   "name": "python",
   "nbconvert_exporter": "python",
   "pygments_lexer": "ipython3",
   "version": "3.4.2"
  }
 },
 "nbformat": 4,
 "nbformat_minor": 2
}
