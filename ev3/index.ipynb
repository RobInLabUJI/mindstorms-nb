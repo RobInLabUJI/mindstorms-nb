{
 "cells": [
  {
   "cell_type": "markdown",
   "metadata": {},
   "source": [
    "[<img src=\"img/brick.jpg\" align=\"right\" width=200>](https://en.wikipedia.org/wiki/Lego_Mindstorms_EV3)\n",
    "# EV3 Mindstorms Notebooks\n",
    "\n",
    "Lego Mindstorms EV3 és la tercera generació de kits de robòtica de Lego. El controlador EV3 permet connectar fins a quatre sensors i tres motors. Té una pantalla de 178 x 128 píxels, un altaveu, i cinc botons. Porta un microprocessador de 32 bits amb 16MB de memòria FLASH i 64MB de RAM, i es pot communicar per USB, Bluetooth, i WiFi amb l'ordinador.\n",
    "\n"
   ]
  },
  {
   "cell_type": "markdown",
   "metadata": {},
   "source": [
    "<img src=\"img/ev3_online.png\" width=200 align=\"right\">\n",
    "En primer lloc **heu d'activar el controlador amb el botó central gris**. S'encenen unes llums i apareixen uns missatges a la pantalla, durant un parell de minuts. Espereu que finalitze el procés d'arranc abans de continuar.\n",
    "\n",
    "Un cop completat l'arranc, ha d'aparèixer un menú a la pantalla, i una adreça a la part superior\n",
    "esquerra amb el format `192.168.X.X`. Si no és així, indiqueu-ho al professor de l'aula."
   ]
  },
  {
   "cell_type": "markdown",
   "metadata": {},
   "source": [
    "Ara heu de configurar el vostre robot.\n",
    "\n",
    "Per a això, indiqueu al codi de baix el número del vostre robot, i executeu-lo pulsant simultàniament les tecles `Majúscules + Enter`."
   ]
  },
  {
   "cell_type": "code",
   "execution_count": null,
   "metadata": {
    "collapsed": false
   },
   "outputs": [],
   "source": [
    "robot = 1         # canvieu-lo pel número del vostre robot\n",
    "from functions import configure\n",
    "configure(robot)  # executeu pulsant simultàniament Majúscules + Enter"
   ]
  }
 ],
 "metadata": {
  "anaconda-cloud": {},
  "kernelspec": {
   "display_name": "Python [conda env:py34]",
   "language": "python",
   "name": "conda-env-py34-py"
  },
  "language_info": {
   "codemirror_mode": {
    "name": "ipython",
    "version": 3
   },
   "file_extension": ".py",
   "mimetype": "text/x-python",
   "name": "python",
   "nbconvert_exporter": "python",
   "pygments_lexer": "ipython3",
   "version": "3.4.2"
  }
 },
 "nbformat": 4,
 "nbformat_minor": 2
}
