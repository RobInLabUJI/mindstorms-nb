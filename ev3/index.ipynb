{
 "metadata": {
  "anaconda-cloud": {},
  "kernelspec": {
   "display_name": "Python [conda env:py34]",
   "language": "python",
   "name": "conda-env-py34-py"
  },
  "language_info": {
   "codemirror_mode": {
    "name": "ipython",
    "version": 3
   },
   "file_extension": ".py",
   "mimetype": "text/x-python",
   "name": "python",
   "nbconvert_exporter": "python",
   "pygments_lexer": "ipython3",
   "version": "3.4.2"
  },
  "name": ""
 },
 "nbformat": 3,
 "nbformat_minor": 0,
 "worksheets": [
  {
   "cells": [
    {
     "cell_type": "markdown",
     "metadata": {},
     "source": [
      "[<img src=\"https://upload.wikimedia.org/wikipedia/commons/thumb/f/fd/Lego_Mindstorms_EV3_brick.jpg/320px-Lego_Mindstorms_EV3_brick.jpg\" align=\"right\" width=200>](https://en.wikipedia.org/wiki/Lego_Mindstorms_EV3)\n",
      "# EV3 Mindstorms Notebooks\n",
      "\n",
      "Lego Mindstorms EV3 \u00e9s la tercera generaci\u00f3 de kits de rob\u00f2tica de Lego. El controlador EV3 permet connectar fins a quatre sensors i tres motors. T\u00e9 una pantalla de 178 x 128 p\u00edxels, un altaveu, i cinc botons. Porta un microprocessador de 32 bits amb 16MB de mem\u00f2ria FLASH i 64MB de RAM, i es pot communicar per USB, Bluetooth, i WiFi amb l'ordinador.\n",
      "\n"
     ]
    },
    {
     "cell_type": "markdown",
     "metadata": {},
     "source": [
      "<img src=\"img/ev3_online.png\" width=200 align=\"right\">\n",
      "En primer lloc **heu d'activar el controlador amb el bot\u00f3 central gris**. S'encenen unes llums i apareixen uns missatges a la pantalla, durant un parell de minuts. Espereu que finalitze el proc\u00e9s d'arranc abans de continuar.\n",
      "\n",
      "Un cop completat l'arranc, ha d'apar\u00e8ixer un men\u00fa a la pantalla, i una adre\u00e7a a la part superior\n",
      "esquerra amb el format `192.168.X.X`. Si no \u00e9s aix\u00ed, indiqueu-ho al professor de l'aula."
     ]
    },
    {
     "cell_type": "markdown",
     "metadata": {},
     "source": [
      "Ara heu de configurar el vostre robot.\n",
      "\n",
      "Per a aix\u00f2, indiqueu al codi de baix el n\u00famero del vostre robot, i executeu-lo pulsant simult\u00e0niament les tecles `Maj\u00fascules + Enter`."
     ]
    },
    {
     "cell_type": "code",
     "collapsed": false,
     "input": [
      "robot = 1         # canvieu-lo pel n\u00famero del vostre robot\n",
      "from functions import configure\n",
      "configure(robot)  # executeu pulsant simult\u00e0niament Maj\u00fascules + Enter"
     ],
     "language": "python",
     "metadata": {},
     "outputs": [],
     "prompt_number": null
    },
    {
     "cell_type": "markdown",
     "metadata": {},
     "source": [
      "Ara ja podeu continuar, comen\u00e7ant la primera tasca de programaci\u00f3: provareu el robot a vore si respon i es mou correctament.\n",
      "\n",
      "## [>>> Prova de connexi\u00f3](../task/index.ipynb)"
     ]
    }
   ],
   "metadata": {}
  }
 ]
}
