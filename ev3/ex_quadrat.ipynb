{
 "cells": [
  {
   "cell_type": "markdown",
   "metadata": {},
   "source": [
    "# Exercici  del quadrat\n",
    "\n",
    "<img src=\"img/bart-simpson-chalkboard.jpg\" align=\"right\" width=250>\n",
    "A partir de les instruccions dels moviments bàsics, heu de fer un programa per a que el robot avance i gire 90 graus, de manera de faça una trajectòria quadrada.\n",
    "\n",
    "L'estratègia és simple: repetiu quatre vegades el codi necessari per a fer avançar el robot un temps, i girar (a l'esquerra o a la dreta).\n",
    "\n",
    "Abans que res, no oblideu connectar-vos al robot!"
   ]
  },
  {
   "cell_type": "code",
   "execution_count": 1,
   "metadata": {
    "collapsed": false
   },
   "outputs": [],
   "source": [
    "from functions import connect, forward, backward, stop, left, right\n",
    "from time import sleep\n",
    "\n",
    "connect(1)"
   ]
  },
  {
   "cell_type": "markdown",
   "metadata": {},
   "source": [
    "Ara heu de copiar en la cel·la següent el codi per a fer avançar i girar el robot (quatre vegades!).\n",
    "\n",
    "No oblideu parar els dos motors al final!"
   ]
  },
  {
   "cell_type": "code",
   "execution_count": null,
   "metadata": {
    "collapsed": true
   },
   "outputs": [],
   "source": [
    "forward()\n",
    "sleep(1)\n",
    "stop()"
   ]
  },
  {
   "cell_type": "markdown",
   "metadata": {},
   "source": [
    "Podeu canviar el temps de gir, per a que l'angle girat s'aproxime a 90 graus."
   ]
  },
  {
   "cell_type": "code",
   "execution_count": null,
   "metadata": {
    "collapsed": true
   },
   "outputs": [],
   "source": []
  }
 ],
 "metadata": {
  "anaconda-cloud": {},
  "kernelspec": {
   "display_name": "Python [conda env:py34]",
   "language": "python",
   "name": "conda-env-py34-py"
  },
  "language_info": {
   "codemirror_mode": {
    "name": "ipython",
    "version": 3
   },
   "file_extension": ".py",
   "mimetype": "text/x-python",
   "name": "python",
   "nbconvert_exporter": "python",
   "pygments_lexer": "ipython3",
   "version": "3.4.2"
  }
 },
 "nbformat": 4,
 "nbformat_minor": 2
}
